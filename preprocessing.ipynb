{
  "nbformat": 4,
  "nbformat_minor": 0,
  "metadata": {
    "colab": {
      "provenance": [],
      "authorship_tag": "ABX9TyNOBRv34EbJ/GmMfgTz9043",
      "include_colab_link": true
    },
    "kernelspec": {
      "name": "python3",
      "display_name": "Python 3"
    },
    "language_info": {
      "name": "python"
    }
  },
  "cells": [
    {
      "cell_type": "markdown",
      "metadata": {
        "id": "view-in-github",
        "colab_type": "text"
      },
      "source": [
        "<a href=\"https://colab.research.google.com/github/priyacoding/Rice-Export-Import-Prediction/blob/main/preprocessing.ipynb\" target=\"_parent\"><img src=\"https://colab.research.google.com/assets/colab-badge.svg\" alt=\"Open In Colab\"/></a>"
      ]
    },
    {
      "cell_type": "code",
      "execution_count": 1,
      "metadata": {
        "id": "-4b2MS2WoZ9z"
      },
      "outputs": [],
      "source": [
        "import pandas as pd"
      ]
    },
    {
      "cell_type": "code",
      "source": [
        "df = pd.read_csv(\"/content/Rice Exporters 2019 - Trade Atlas Records - Jan (1).csv\")\n",
        "df1 = pd.read_csv(\"/content/Rice Exporters 2020 - Jan.csv\")\n",
        "df2 = pd.read_csv(\"/content/Rice Exporters 2021 - January.csv\")\n",
        "df3 = pd.read_csv(\"/content/Rice Exporters 2022 - Jan.csv\")"
      ],
      "metadata": {
        "id": "ROCm8gc7oe3p"
      },
      "execution_count": 2,
      "outputs": []
    },
    {
      "cell_type": "code",
      "source": [
        "df = pd.concat([df,df1,df2,df3])\n",
        ""
      ],
      "metadata": {
        "id": "Atl7zVExooCE"
      },
      "execution_count": 3,
      "outputs": []
    },
    {
      "cell_type": "code",
      "source": [
        "df.head()"
      ],
      "metadata": {
        "colab": {
          "base_uri": "https://localhost:8080/",
          "height": 516
        },
        "id": "vzbJIvDVor-j",
        "outputId": "5ca634d8-d033-418d-c529-f9c275b381e2"
      },
      "execution_count": 4,
      "outputs": [
        {
          "output_type": "execute_result",
          "data": {
            "text/plain": [
              "   NO ARRIVAL DATE   HS CODE                        HS CODE DESCRIPTION  \\\n",
              "0   1   30-01-2019  10063020                               Basmati Rice   \n",
              "1   2   30-01-2019  10063020                               Basmati Rice   \n",
              "2   3   30-01-2019  10063010                            Rice, parboiled   \n",
              "3   4   30-01-2019  10063010                            Rice, parboiled   \n",
              "4   5   30-01-2019  10063090  Rice Excptg Parboiled (Excl Basmati Rice)   \n",
              "\n",
              "                          IMPORTER NAME IMPORTER ADDRESS  \\\n",
              "0             NATRAJ FOOD STUFF FACTORY                .   \n",
              "1             KV A GENERAL TRADING LLC.                .   \n",
              "2  NIRAPARA MIDDLEEAST GENERALTRAD LLC.                .   \n",
              "3                  MATSYA OVER SEASLTD.                .   \n",
              "4      SARAVANA FOOD STUFF FACTORY LLC.                .   \n",
              "\n",
              "       IMPORTER COUNTRY            CITY STATE TEL FAX  ... SHIPPER COUNTRY  \\\n",
              "0  United Arab Emirates  United Arab Emirates   .   .  ...             NaN   \n",
              "1  United Arab Emirates  United Arab Emirates   .   .  ...             NaN   \n",
              "2  United Arab Emirates  United Arab Emirates   .   .  ...             NaN   \n",
              "3  United Arab Emirates  United Arab Emirates   .   .  ...             NaN   \n",
              "4  United Arab Emirates  United Arab Emirates   .   .  ...             NaN   \n",
              "\n",
              "  US STATE US PORT2 FINAL US PORT FINAL FOREIGN PORT  FINAL COUNTRY  \\\n",
              "0      NaN      NaN           NaN                NaN            NaN   \n",
              "1      NaN      NaN           NaN                NaN            NaN   \n",
              "2      NaN      NaN           NaN                NaN            NaN   \n",
              "3      NaN      NaN           NaN                NaN            NaN   \n",
              "4      NaN      NaN           NaN                NaN            NaN   \n",
              "\n",
              "   CONTAINER COUNT TOTAL TEUS  Final Qty PORT OF DEPARTURE.1  \n",
              "0                0          0        NaN                 NaN  \n",
              "1                0          0        NaN                 NaN  \n",
              "2                0          0        NaN                 NaN  \n",
              "3                0          0        NaN                 NaN  \n",
              "4                0          0        NaN                 NaN  \n",
              "\n",
              "[5 rows x 48 columns]"
            ],
            "text/html": [
              "\n",
              "  <div id=\"df-d5bb8db6-8322-45cc-84f5-8399f949a6af\" class=\"colab-df-container\">\n",
              "    <div>\n",
              "<style scoped>\n",
              "    .dataframe tbody tr th:only-of-type {\n",
              "        vertical-align: middle;\n",
              "    }\n",
              "\n",
              "    .dataframe tbody tr th {\n",
              "        vertical-align: top;\n",
              "    }\n",
              "\n",
              "    .dataframe thead th {\n",
              "        text-align: right;\n",
              "    }\n",
              "</style>\n",
              "<table border=\"1\" class=\"dataframe\">\n",
              "  <thead>\n",
              "    <tr style=\"text-align: right;\">\n",
              "      <th></th>\n",
              "      <th>NO</th>\n",
              "      <th>ARRIVAL DATE</th>\n",
              "      <th>HS CODE</th>\n",
              "      <th>HS CODE DESCRIPTION</th>\n",
              "      <th>IMPORTER NAME</th>\n",
              "      <th>IMPORTER ADDRESS</th>\n",
              "      <th>IMPORTER COUNTRY</th>\n",
              "      <th>CITY STATE</th>\n",
              "      <th>TEL</th>\n",
              "      <th>FAX</th>\n",
              "      <th>...</th>\n",
              "      <th>SHIPPER COUNTRY</th>\n",
              "      <th>US STATE</th>\n",
              "      <th>US PORT2</th>\n",
              "      <th>FINAL US PORT</th>\n",
              "      <th>FINAL FOREIGN PORT</th>\n",
              "      <th>FINAL COUNTRY</th>\n",
              "      <th>CONTAINER COUNT</th>\n",
              "      <th>TOTAL TEUS</th>\n",
              "      <th>Final Qty</th>\n",
              "      <th>PORT OF DEPARTURE.1</th>\n",
              "    </tr>\n",
              "  </thead>\n",
              "  <tbody>\n",
              "    <tr>\n",
              "      <th>0</th>\n",
              "      <td>1</td>\n",
              "      <td>30-01-2019</td>\n",
              "      <td>10063020</td>\n",
              "      <td>Basmati Rice</td>\n",
              "      <td>NATRAJ FOOD STUFF FACTORY</td>\n",
              "      <td>.</td>\n",
              "      <td>United Arab Emirates</td>\n",
              "      <td>United Arab Emirates</td>\n",
              "      <td>.</td>\n",
              "      <td>.</td>\n",
              "      <td>...</td>\n",
              "      <td>NaN</td>\n",
              "      <td>NaN</td>\n",
              "      <td>NaN</td>\n",
              "      <td>NaN</td>\n",
              "      <td>NaN</td>\n",
              "      <td>NaN</td>\n",
              "      <td>0</td>\n",
              "      <td>0</td>\n",
              "      <td>NaN</td>\n",
              "      <td>NaN</td>\n",
              "    </tr>\n",
              "    <tr>\n",
              "      <th>1</th>\n",
              "      <td>2</td>\n",
              "      <td>30-01-2019</td>\n",
              "      <td>10063020</td>\n",
              "      <td>Basmati Rice</td>\n",
              "      <td>KV A GENERAL TRADING LLC.</td>\n",
              "      <td>.</td>\n",
              "      <td>United Arab Emirates</td>\n",
              "      <td>United Arab Emirates</td>\n",
              "      <td>.</td>\n",
              "      <td>.</td>\n",
              "      <td>...</td>\n",
              "      <td>NaN</td>\n",
              "      <td>NaN</td>\n",
              "      <td>NaN</td>\n",
              "      <td>NaN</td>\n",
              "      <td>NaN</td>\n",
              "      <td>NaN</td>\n",
              "      <td>0</td>\n",
              "      <td>0</td>\n",
              "      <td>NaN</td>\n",
              "      <td>NaN</td>\n",
              "    </tr>\n",
              "    <tr>\n",
              "      <th>2</th>\n",
              "      <td>3</td>\n",
              "      <td>30-01-2019</td>\n",
              "      <td>10063010</td>\n",
              "      <td>Rice, parboiled</td>\n",
              "      <td>NIRAPARA MIDDLEEAST GENERALTRAD LLC.</td>\n",
              "      <td>.</td>\n",
              "      <td>United Arab Emirates</td>\n",
              "      <td>United Arab Emirates</td>\n",
              "      <td>.</td>\n",
              "      <td>.</td>\n",
              "      <td>...</td>\n",
              "      <td>NaN</td>\n",
              "      <td>NaN</td>\n",
              "      <td>NaN</td>\n",
              "      <td>NaN</td>\n",
              "      <td>NaN</td>\n",
              "      <td>NaN</td>\n",
              "      <td>0</td>\n",
              "      <td>0</td>\n",
              "      <td>NaN</td>\n",
              "      <td>NaN</td>\n",
              "    </tr>\n",
              "    <tr>\n",
              "      <th>3</th>\n",
              "      <td>4</td>\n",
              "      <td>30-01-2019</td>\n",
              "      <td>10063010</td>\n",
              "      <td>Rice, parboiled</td>\n",
              "      <td>MATSYA OVER SEASLTD.</td>\n",
              "      <td>.</td>\n",
              "      <td>United Arab Emirates</td>\n",
              "      <td>United Arab Emirates</td>\n",
              "      <td>.</td>\n",
              "      <td>.</td>\n",
              "      <td>...</td>\n",
              "      <td>NaN</td>\n",
              "      <td>NaN</td>\n",
              "      <td>NaN</td>\n",
              "      <td>NaN</td>\n",
              "      <td>NaN</td>\n",
              "      <td>NaN</td>\n",
              "      <td>0</td>\n",
              "      <td>0</td>\n",
              "      <td>NaN</td>\n",
              "      <td>NaN</td>\n",
              "    </tr>\n",
              "    <tr>\n",
              "      <th>4</th>\n",
              "      <td>5</td>\n",
              "      <td>30-01-2019</td>\n",
              "      <td>10063090</td>\n",
              "      <td>Rice Excptg Parboiled (Excl Basmati Rice)</td>\n",
              "      <td>SARAVANA FOOD STUFF FACTORY LLC.</td>\n",
              "      <td>.</td>\n",
              "      <td>United Arab Emirates</td>\n",
              "      <td>United Arab Emirates</td>\n",
              "      <td>.</td>\n",
              "      <td>.</td>\n",
              "      <td>...</td>\n",
              "      <td>NaN</td>\n",
              "      <td>NaN</td>\n",
              "      <td>NaN</td>\n",
              "      <td>NaN</td>\n",
              "      <td>NaN</td>\n",
              "      <td>NaN</td>\n",
              "      <td>0</td>\n",
              "      <td>0</td>\n",
              "      <td>NaN</td>\n",
              "      <td>NaN</td>\n",
              "    </tr>\n",
              "  </tbody>\n",
              "</table>\n",
              "<p>5 rows × 48 columns</p>\n",
              "</div>\n",
              "    <div class=\"colab-df-buttons\">\n",
              "\n",
              "  <div class=\"colab-df-container\">\n",
              "    <button class=\"colab-df-convert\" onclick=\"convertToInteractive('df-d5bb8db6-8322-45cc-84f5-8399f949a6af')\"\n",
              "            title=\"Convert this dataframe to an interactive table.\"\n",
              "            style=\"display:none;\">\n",
              "\n",
              "  <svg xmlns=\"http://www.w3.org/2000/svg\" height=\"24px\" viewBox=\"0 -960 960 960\">\n",
              "    <path d=\"M120-120v-720h720v720H120Zm60-500h600v-160H180v160Zm220 220h160v-160H400v160Zm0 220h160v-160H400v160ZM180-400h160v-160H180v160Zm440 0h160v-160H620v160ZM180-180h160v-160H180v160Zm440 0h160v-160H620v160Z\"/>\n",
              "  </svg>\n",
              "    </button>\n",
              "\n",
              "  <style>\n",
              "    .colab-df-container {\n",
              "      display:flex;\n",
              "      gap: 12px;\n",
              "    }\n",
              "\n",
              "    .colab-df-convert {\n",
              "      background-color: #E8F0FE;\n",
              "      border: none;\n",
              "      border-radius: 50%;\n",
              "      cursor: pointer;\n",
              "      display: none;\n",
              "      fill: #1967D2;\n",
              "      height: 32px;\n",
              "      padding: 0 0 0 0;\n",
              "      width: 32px;\n",
              "    }\n",
              "\n",
              "    .colab-df-convert:hover {\n",
              "      background-color: #E2EBFA;\n",
              "      box-shadow: 0px 1px 2px rgba(60, 64, 67, 0.3), 0px 1px 3px 1px rgba(60, 64, 67, 0.15);\n",
              "      fill: #174EA6;\n",
              "    }\n",
              "\n",
              "    .colab-df-buttons div {\n",
              "      margin-bottom: 4px;\n",
              "    }\n",
              "\n",
              "    [theme=dark] .colab-df-convert {\n",
              "      background-color: #3B4455;\n",
              "      fill: #D2E3FC;\n",
              "    }\n",
              "\n",
              "    [theme=dark] .colab-df-convert:hover {\n",
              "      background-color: #434B5C;\n",
              "      box-shadow: 0px 1px 3px 1px rgba(0, 0, 0, 0.15);\n",
              "      filter: drop-shadow(0px 1px 2px rgba(0, 0, 0, 0.3));\n",
              "      fill: #FFFFFF;\n",
              "    }\n",
              "  </style>\n",
              "\n",
              "    <script>\n",
              "      const buttonEl =\n",
              "        document.querySelector('#df-d5bb8db6-8322-45cc-84f5-8399f949a6af button.colab-df-convert');\n",
              "      buttonEl.style.display =\n",
              "        google.colab.kernel.accessAllowed ? 'block' : 'none';\n",
              "\n",
              "      async function convertToInteractive(key) {\n",
              "        const element = document.querySelector('#df-d5bb8db6-8322-45cc-84f5-8399f949a6af');\n",
              "        const dataTable =\n",
              "          await google.colab.kernel.invokeFunction('convertToInteractive',\n",
              "                                                    [key], {});\n",
              "        if (!dataTable) return;\n",
              "\n",
              "        const docLinkHtml = 'Like what you see? Visit the ' +\n",
              "          '<a target=\"_blank\" href=https://colab.research.google.com/notebooks/data_table.ipynb>data table notebook</a>'\n",
              "          + ' to learn more about interactive tables.';\n",
              "        element.innerHTML = '';\n",
              "        dataTable['output_type'] = 'display_data';\n",
              "        await google.colab.output.renderOutput(dataTable, element);\n",
              "        const docLink = document.createElement('div');\n",
              "        docLink.innerHTML = docLinkHtml;\n",
              "        element.appendChild(docLink);\n",
              "      }\n",
              "    </script>\n",
              "  </div>\n",
              "\n",
              "\n",
              "<div id=\"df-0ab2b62f-4ab8-4904-8692-e5359f3213bf\">\n",
              "  <button class=\"colab-df-quickchart\" onclick=\"quickchart('df-0ab2b62f-4ab8-4904-8692-e5359f3213bf')\"\n",
              "            title=\"Suggest charts\"\n",
              "            style=\"display:none;\">\n",
              "\n",
              "<svg xmlns=\"http://www.w3.org/2000/svg\" height=\"24px\"viewBox=\"0 0 24 24\"\n",
              "     width=\"24px\">\n",
              "    <g>\n",
              "        <path d=\"M19 3H5c-1.1 0-2 .9-2 2v14c0 1.1.9 2 2 2h14c1.1 0 2-.9 2-2V5c0-1.1-.9-2-2-2zM9 17H7v-7h2v7zm4 0h-2V7h2v10zm4 0h-2v-4h2v4z\"/>\n",
              "    </g>\n",
              "</svg>\n",
              "  </button>\n",
              "\n",
              "<style>\n",
              "  .colab-df-quickchart {\n",
              "      --bg-color: #E8F0FE;\n",
              "      --fill-color: #1967D2;\n",
              "      --hover-bg-color: #E2EBFA;\n",
              "      --hover-fill-color: #174EA6;\n",
              "      --disabled-fill-color: #AAA;\n",
              "      --disabled-bg-color: #DDD;\n",
              "  }\n",
              "\n",
              "  [theme=dark] .colab-df-quickchart {\n",
              "      --bg-color: #3B4455;\n",
              "      --fill-color: #D2E3FC;\n",
              "      --hover-bg-color: #434B5C;\n",
              "      --hover-fill-color: #FFFFFF;\n",
              "      --disabled-bg-color: #3B4455;\n",
              "      --disabled-fill-color: #666;\n",
              "  }\n",
              "\n",
              "  .colab-df-quickchart {\n",
              "    background-color: var(--bg-color);\n",
              "    border: none;\n",
              "    border-radius: 50%;\n",
              "    cursor: pointer;\n",
              "    display: none;\n",
              "    fill: var(--fill-color);\n",
              "    height: 32px;\n",
              "    padding: 0;\n",
              "    width: 32px;\n",
              "  }\n",
              "\n",
              "  .colab-df-quickchart:hover {\n",
              "    background-color: var(--hover-bg-color);\n",
              "    box-shadow: 0 1px 2px rgba(60, 64, 67, 0.3), 0 1px 3px 1px rgba(60, 64, 67, 0.15);\n",
              "    fill: var(--button-hover-fill-color);\n",
              "  }\n",
              "\n",
              "  .colab-df-quickchart-complete:disabled,\n",
              "  .colab-df-quickchart-complete:disabled:hover {\n",
              "    background-color: var(--disabled-bg-color);\n",
              "    fill: var(--disabled-fill-color);\n",
              "    box-shadow: none;\n",
              "  }\n",
              "\n",
              "  .colab-df-spinner {\n",
              "    border: 2px solid var(--fill-color);\n",
              "    border-color: transparent;\n",
              "    border-bottom-color: var(--fill-color);\n",
              "    animation:\n",
              "      spin 1s steps(1) infinite;\n",
              "  }\n",
              "\n",
              "  @keyframes spin {\n",
              "    0% {\n",
              "      border-color: transparent;\n",
              "      border-bottom-color: var(--fill-color);\n",
              "      border-left-color: var(--fill-color);\n",
              "    }\n",
              "    20% {\n",
              "      border-color: transparent;\n",
              "      border-left-color: var(--fill-color);\n",
              "      border-top-color: var(--fill-color);\n",
              "    }\n",
              "    30% {\n",
              "      border-color: transparent;\n",
              "      border-left-color: var(--fill-color);\n",
              "      border-top-color: var(--fill-color);\n",
              "      border-right-color: var(--fill-color);\n",
              "    }\n",
              "    40% {\n",
              "      border-color: transparent;\n",
              "      border-right-color: var(--fill-color);\n",
              "      border-top-color: var(--fill-color);\n",
              "    }\n",
              "    60% {\n",
              "      border-color: transparent;\n",
              "      border-right-color: var(--fill-color);\n",
              "    }\n",
              "    80% {\n",
              "      border-color: transparent;\n",
              "      border-right-color: var(--fill-color);\n",
              "      border-bottom-color: var(--fill-color);\n",
              "    }\n",
              "    90% {\n",
              "      border-color: transparent;\n",
              "      border-bottom-color: var(--fill-color);\n",
              "    }\n",
              "  }\n",
              "</style>\n",
              "\n",
              "  <script>\n",
              "    async function quickchart(key) {\n",
              "      const quickchartButtonEl =\n",
              "        document.querySelector('#' + key + ' button');\n",
              "      quickchartButtonEl.disabled = true;  // To prevent multiple clicks.\n",
              "      quickchartButtonEl.classList.add('colab-df-spinner');\n",
              "      try {\n",
              "        const charts = await google.colab.kernel.invokeFunction(\n",
              "            'suggestCharts', [key], {});\n",
              "      } catch (error) {\n",
              "        console.error('Error during call to suggestCharts:', error);\n",
              "      }\n",
              "      quickchartButtonEl.classList.remove('colab-df-spinner');\n",
              "      quickchartButtonEl.classList.add('colab-df-quickchart-complete');\n",
              "    }\n",
              "    (() => {\n",
              "      let quickchartButtonEl =\n",
              "        document.querySelector('#df-0ab2b62f-4ab8-4904-8692-e5359f3213bf button');\n",
              "      quickchartButtonEl.style.display =\n",
              "        google.colab.kernel.accessAllowed ? 'block' : 'none';\n",
              "    })();\n",
              "  </script>\n",
              "</div>\n",
              "    </div>\n",
              "  </div>\n"
            ]
          },
          "metadata": {},
          "execution_count": 4
        }
      ]
    },
    {
      "cell_type": "code",
      "source": [
        "df.info()"
      ],
      "metadata": {
        "colab": {
          "base_uri": "https://localhost:8080/"
        },
        "id": "pByG5UltowF2",
        "outputId": "942c4401-3b56-45a1-d34a-45ee18ba707c"
      },
      "execution_count": 5,
      "outputs": [
        {
          "output_type": "stream",
          "name": "stdout",
          "text": [
            "<class 'pandas.core.frame.DataFrame'>\n",
            "Int64Index: 28293 entries, 0 to 8698\n",
            "Data columns (total 48 columns):\n",
            " #   Column                 Non-Null Count  Dtype  \n",
            "---  ------                 --------------  -----  \n",
            " 0   NO                     28293 non-null  int64  \n",
            " 1   ARRIVAL DATE           28293 non-null  object \n",
            " 2   HS CODE                28293 non-null  int64  \n",
            " 3   HS CODE DESCRIPTION    28146 non-null  object \n",
            " 4   IMPORTER NAME          28162 non-null  object \n",
            " 5   IMPORTER ADDRESS       28001 non-null  object \n",
            " 6   IMPORTER COUNTRY       28293 non-null  object \n",
            " 7   CITY STATE             28287 non-null  object \n",
            " 8   TEL                    27665 non-null  object \n",
            " 9   FAX                    27565 non-null  object \n",
            " 10  E-MAIL                 27768 non-null  object \n",
            " 11  WEB                    27154 non-null  object \n",
            " 12  EXPORTER NAME          28148 non-null  object \n",
            " 13  EXPORTER ADDRESS       27067 non-null  object \n",
            " 14  COUNTRY OF ORIGIN      28293 non-null  object \n",
            " 15  IMPORT VALUE FOB       28293 non-null  float64\n",
            " 16  IMPORT VALUE CIF       28293 non-null  float64\n",
            " 17  CURRENCY               27868 non-null  object \n",
            " 18  NET WEIGHT             28293 non-null  float64\n",
            " 19  NET WEIGHT UNIT        1453 non-null   object \n",
            " 20  GROSS WEIGHT           28293 non-null  float64\n",
            " 21  GROSS WEIGHT UNIT      1464 non-null   object \n",
            " 22  QUANTITY               28293 non-null  float64\n",
            " 23  QUANTITY UNIT          27759 non-null  object \n",
            " 24  PRODUCT DETAILS        27916 non-null  object \n",
            " 25  NUMBER OF PACKAGES     28293 non-null  float64\n",
            " 26  PACKAGES UNIT          652 non-null    object \n",
            " 27  INCOTERMS              577 non-null    object \n",
            " 28  PLACE OF DELIVERY      334 non-null    object \n",
            " 29  BRAND NAME             368 non-null    object \n",
            " 30  MANUFACTORING COMPANY  262 non-null    object \n",
            " 31  PORT OF ARRIVAL        27469 non-null  object \n",
            " 32  PORT OF DEPARTURE      26930 non-null  object \n",
            " 33  NOTIFY PARTY           851 non-null    object \n",
            " 34  NOTIFY ADDRESS         489 non-null    object \n",
            " 35  VOLUME                 28293 non-null  float64\n",
            " 36  VOLUME UNIT            0 non-null      float64\n",
            " 37  PREPORT                0 non-null      float64\n",
            " 38  SHIPPER COUNTRY        685 non-null    object \n",
            " 39  US STATE               0 non-null      float64\n",
            " 40  US PORT2               0 non-null      float64\n",
            " 41  FINAL US PORT          0 non-null      float64\n",
            " 42  FINAL FOREIGN PORT     0 non-null      float64\n",
            " 43  FINAL COUNTRY          0 non-null      float64\n",
            " 44  CONTAINER COUNT        28293 non-null  int64  \n",
            " 45  TOTAL TEUS             28293 non-null  int64  \n",
            " 46  Final Qty              7387 non-null   float64\n",
            " 47  PORT OF DEPARTURE.1    6728 non-null   object \n",
            "dtypes: float64(15), int64(4), object(29)\n",
            "memory usage: 10.6+ MB\n"
          ]
        }
      ]
    },
    {
      "cell_type": "code",
      "source": [
        "df.duplicated().sum()"
      ],
      "metadata": {
        "colab": {
          "base_uri": "https://localhost:8080/"
        },
        "id": "GltCoSQQo0vP",
        "outputId": "a5f9346e-4100-490d-8e2a-accc22a149b0"
      },
      "execution_count": 6,
      "outputs": [
        {
          "output_type": "execute_result",
          "data": {
            "text/plain": [
              "0"
            ]
          },
          "metadata": {},
          "execution_count": 6
        }
      ]
    },
    {
      "cell_type": "code",
      "source": [
        "df.drop(['VOLUME UNIT','PREPORT','US STATE','US PORT2','FINAL US PORT','FINAL FOREIGN PORT', 'FINAL COUNTRY'],axis = 1,inplace = True)"
      ],
      "metadata": {
        "id": "F_o3zbJjo5GG"
      },
      "execution_count": 7,
      "outputs": []
    },
    {
      "cell_type": "code",
      "source": [
        "df.columns"
      ],
      "metadata": {
        "colab": {
          "base_uri": "https://localhost:8080/"
        },
        "id": "_HKkYFNapHTP",
        "outputId": "48c0dbdb-bdd7-4d13-8390-d4343700da33"
      },
      "execution_count": 8,
      "outputs": [
        {
          "output_type": "execute_result",
          "data": {
            "text/plain": [
              "Index(['NO', 'ARRIVAL DATE', 'HS CODE', 'HS CODE DESCRIPTION', 'IMPORTER NAME',\n",
              "       'IMPORTER ADDRESS', 'IMPORTER COUNTRY', 'CITY STATE', 'TEL', 'FAX',\n",
              "       'E-MAIL', 'WEB', 'EXPORTER NAME', 'EXPORTER ADDRESS',\n",
              "       'COUNTRY OF ORIGIN', 'IMPORT VALUE FOB', 'IMPORT VALUE CIF', 'CURRENCY',\n",
              "       'NET WEIGHT', 'NET WEIGHT UNIT', 'GROSS WEIGHT', 'GROSS WEIGHT UNIT',\n",
              "       'QUANTITY', 'QUANTITY UNIT', 'PRODUCT DETAILS', 'NUMBER OF PACKAGES',\n",
              "       'PACKAGES UNIT', 'INCOTERMS', 'PLACE OF DELIVERY', 'BRAND NAME',\n",
              "       'MANUFACTORING COMPANY', 'PORT OF ARRIVAL', 'PORT OF DEPARTURE',\n",
              "       'NOTIFY PARTY', 'NOTIFY ADDRESS', 'VOLUME', 'SHIPPER COUNTRY',\n",
              "       'CONTAINER COUNT', 'TOTAL TEUS', 'Final Qty', 'PORT OF DEPARTURE.1'],\n",
              "      dtype='object')"
            ]
          },
          "metadata": {},
          "execution_count": 8
        }
      ]
    },
    {
      "cell_type": "code",
      "source": [
        "df.describe()"
      ],
      "metadata": {
        "colab": {
          "base_uri": "https://localhost:8080/",
          "height": 338
        },
        "id": "oFn4Z_k3pYSx",
        "outputId": "a30aae51-bf25-45fa-84b8-009d7713228b"
      },
      "execution_count": 9,
      "outputs": [
        {
          "output_type": "execute_result",
          "data": {
            "text/plain": [
              "                 NO       HS CODE  IMPORT VALUE FOB  IMPORT VALUE CIF  \\\n",
              "count  28293.000000  2.829300e+04      2.829300e+04      2.829300e+04   \n",
              "mean    3625.921465  8.487098e+07      1.887279e+06      1.637299e+06   \n",
              "std     2192.102644  7.384568e+08      3.961334e+07      4.307003e+07   \n",
              "min        1.000000  1.006300e+05      0.000000e+00      0.000000e+00   \n",
              "25%     1769.000000  1.006301e+07      3.410000e+03      0.000000e+00   \n",
              "50%     3537.000000  1.006302e+07      1.793880e+04      0.000000e+00   \n",
              "75%     5305.000000  1.006309e+07      6.600000e+04      0.000000e+00   \n",
              "max     8699.000000  1.006310e+10      4.781290e+09      5.399120e+09   \n",
              "\n",
              "         NET WEIGHT  GROSS WEIGHT      QUANTITY  NUMBER OF PACKAGES   VOLUME  \\\n",
              "count  2.829300e+04  2.829300e+04  2.829300e+04        28293.000000  28293.0   \n",
              "mean   3.313317e+04  4.192328e+04  3.039297e+04          179.509172      0.0   \n",
              "std    2.085436e+06  2.532250e+06  2.075450e+06         8401.658616      0.0   \n",
              "min    0.000000e+00  0.000000e+00  0.000000e+00            0.000000      0.0   \n",
              "25%    0.000000e+00  0.000000e+00  2.100000e+01            0.000000      0.0   \n",
              "50%    0.000000e+00  0.000000e+00  1.000000e+02            0.000000      0.0   \n",
              "75%    0.000000e+00  0.000000e+00  7.000000e+02            0.000000      0.0   \n",
              "max    2.600000e+08  2.600000e+08  2.600000e+08       788000.000000      0.0   \n",
              "\n",
              "       CONTAINER COUNT    TOTAL TEUS     Final Qty  \n",
              "count     28293.000000  28293.000000  7.387000e+03  \n",
              "mean          0.042060      0.025236  4.200678e+04  \n",
              "std           0.563008      0.487218  6.001953e+05  \n",
              "min           0.000000      0.000000  0.000000e+00  \n",
              "25%           0.000000      0.000000  2.660000e+01  \n",
              "50%           0.000000      0.000000  2.100000e+02  \n",
              "75%           0.000000      0.000000  6.000000e+03  \n",
              "max          20.000000     35.000000  4.264150e+07  "
            ],
            "text/html": [
              "\n",
              "  <div id=\"df-e77eabcc-06bd-4bdb-a96e-d598664c0a1f\" class=\"colab-df-container\">\n",
              "    <div>\n",
              "<style scoped>\n",
              "    .dataframe tbody tr th:only-of-type {\n",
              "        vertical-align: middle;\n",
              "    }\n",
              "\n",
              "    .dataframe tbody tr th {\n",
              "        vertical-align: top;\n",
              "    }\n",
              "\n",
              "    .dataframe thead th {\n",
              "        text-align: right;\n",
              "    }\n",
              "</style>\n",
              "<table border=\"1\" class=\"dataframe\">\n",
              "  <thead>\n",
              "    <tr style=\"text-align: right;\">\n",
              "      <th></th>\n",
              "      <th>NO</th>\n",
              "      <th>HS CODE</th>\n",
              "      <th>IMPORT VALUE FOB</th>\n",
              "      <th>IMPORT VALUE CIF</th>\n",
              "      <th>NET WEIGHT</th>\n",
              "      <th>GROSS WEIGHT</th>\n",
              "      <th>QUANTITY</th>\n",
              "      <th>NUMBER OF PACKAGES</th>\n",
              "      <th>VOLUME</th>\n",
              "      <th>CONTAINER COUNT</th>\n",
              "      <th>TOTAL TEUS</th>\n",
              "      <th>Final Qty</th>\n",
              "    </tr>\n",
              "  </thead>\n",
              "  <tbody>\n",
              "    <tr>\n",
              "      <th>count</th>\n",
              "      <td>28293.000000</td>\n",
              "      <td>2.829300e+04</td>\n",
              "      <td>2.829300e+04</td>\n",
              "      <td>2.829300e+04</td>\n",
              "      <td>2.829300e+04</td>\n",
              "      <td>2.829300e+04</td>\n",
              "      <td>2.829300e+04</td>\n",
              "      <td>28293.000000</td>\n",
              "      <td>28293.0</td>\n",
              "      <td>28293.000000</td>\n",
              "      <td>28293.000000</td>\n",
              "      <td>7.387000e+03</td>\n",
              "    </tr>\n",
              "    <tr>\n",
              "      <th>mean</th>\n",
              "      <td>3625.921465</td>\n",
              "      <td>8.487098e+07</td>\n",
              "      <td>1.887279e+06</td>\n",
              "      <td>1.637299e+06</td>\n",
              "      <td>3.313317e+04</td>\n",
              "      <td>4.192328e+04</td>\n",
              "      <td>3.039297e+04</td>\n",
              "      <td>179.509172</td>\n",
              "      <td>0.0</td>\n",
              "      <td>0.042060</td>\n",
              "      <td>0.025236</td>\n",
              "      <td>4.200678e+04</td>\n",
              "    </tr>\n",
              "    <tr>\n",
              "      <th>std</th>\n",
              "      <td>2192.102644</td>\n",
              "      <td>7.384568e+08</td>\n",
              "      <td>3.961334e+07</td>\n",
              "      <td>4.307003e+07</td>\n",
              "      <td>2.085436e+06</td>\n",
              "      <td>2.532250e+06</td>\n",
              "      <td>2.075450e+06</td>\n",
              "      <td>8401.658616</td>\n",
              "      <td>0.0</td>\n",
              "      <td>0.563008</td>\n",
              "      <td>0.487218</td>\n",
              "      <td>6.001953e+05</td>\n",
              "    </tr>\n",
              "    <tr>\n",
              "      <th>min</th>\n",
              "      <td>1.000000</td>\n",
              "      <td>1.006300e+05</td>\n",
              "      <td>0.000000e+00</td>\n",
              "      <td>0.000000e+00</td>\n",
              "      <td>0.000000e+00</td>\n",
              "      <td>0.000000e+00</td>\n",
              "      <td>0.000000e+00</td>\n",
              "      <td>0.000000</td>\n",
              "      <td>0.0</td>\n",
              "      <td>0.000000</td>\n",
              "      <td>0.000000</td>\n",
              "      <td>0.000000e+00</td>\n",
              "    </tr>\n",
              "    <tr>\n",
              "      <th>25%</th>\n",
              "      <td>1769.000000</td>\n",
              "      <td>1.006301e+07</td>\n",
              "      <td>3.410000e+03</td>\n",
              "      <td>0.000000e+00</td>\n",
              "      <td>0.000000e+00</td>\n",
              "      <td>0.000000e+00</td>\n",
              "      <td>2.100000e+01</td>\n",
              "      <td>0.000000</td>\n",
              "      <td>0.0</td>\n",
              "      <td>0.000000</td>\n",
              "      <td>0.000000</td>\n",
              "      <td>2.660000e+01</td>\n",
              "    </tr>\n",
              "    <tr>\n",
              "      <th>50%</th>\n",
              "      <td>3537.000000</td>\n",
              "      <td>1.006302e+07</td>\n",
              "      <td>1.793880e+04</td>\n",
              "      <td>0.000000e+00</td>\n",
              "      <td>0.000000e+00</td>\n",
              "      <td>0.000000e+00</td>\n",
              "      <td>1.000000e+02</td>\n",
              "      <td>0.000000</td>\n",
              "      <td>0.0</td>\n",
              "      <td>0.000000</td>\n",
              "      <td>0.000000</td>\n",
              "      <td>2.100000e+02</td>\n",
              "    </tr>\n",
              "    <tr>\n",
              "      <th>75%</th>\n",
              "      <td>5305.000000</td>\n",
              "      <td>1.006309e+07</td>\n",
              "      <td>6.600000e+04</td>\n",
              "      <td>0.000000e+00</td>\n",
              "      <td>0.000000e+00</td>\n",
              "      <td>0.000000e+00</td>\n",
              "      <td>7.000000e+02</td>\n",
              "      <td>0.000000</td>\n",
              "      <td>0.0</td>\n",
              "      <td>0.000000</td>\n",
              "      <td>0.000000</td>\n",
              "      <td>6.000000e+03</td>\n",
              "    </tr>\n",
              "    <tr>\n",
              "      <th>max</th>\n",
              "      <td>8699.000000</td>\n",
              "      <td>1.006310e+10</td>\n",
              "      <td>4.781290e+09</td>\n",
              "      <td>5.399120e+09</td>\n",
              "      <td>2.600000e+08</td>\n",
              "      <td>2.600000e+08</td>\n",
              "      <td>2.600000e+08</td>\n",
              "      <td>788000.000000</td>\n",
              "      <td>0.0</td>\n",
              "      <td>20.000000</td>\n",
              "      <td>35.000000</td>\n",
              "      <td>4.264150e+07</td>\n",
              "    </tr>\n",
              "  </tbody>\n",
              "</table>\n",
              "</div>\n",
              "    <div class=\"colab-df-buttons\">\n",
              "\n",
              "  <div class=\"colab-df-container\">\n",
              "    <button class=\"colab-df-convert\" onclick=\"convertToInteractive('df-e77eabcc-06bd-4bdb-a96e-d598664c0a1f')\"\n",
              "            title=\"Convert this dataframe to an interactive table.\"\n",
              "            style=\"display:none;\">\n",
              "\n",
              "  <svg xmlns=\"http://www.w3.org/2000/svg\" height=\"24px\" viewBox=\"0 -960 960 960\">\n",
              "    <path d=\"M120-120v-720h720v720H120Zm60-500h600v-160H180v160Zm220 220h160v-160H400v160Zm0 220h160v-160H400v160ZM180-400h160v-160H180v160Zm440 0h160v-160H620v160ZM180-180h160v-160H180v160Zm440 0h160v-160H620v160Z\"/>\n",
              "  </svg>\n",
              "    </button>\n",
              "\n",
              "  <style>\n",
              "    .colab-df-container {\n",
              "      display:flex;\n",
              "      gap: 12px;\n",
              "    }\n",
              "\n",
              "    .colab-df-convert {\n",
              "      background-color: #E8F0FE;\n",
              "      border: none;\n",
              "      border-radius: 50%;\n",
              "      cursor: pointer;\n",
              "      display: none;\n",
              "      fill: #1967D2;\n",
              "      height: 32px;\n",
              "      padding: 0 0 0 0;\n",
              "      width: 32px;\n",
              "    }\n",
              "\n",
              "    .colab-df-convert:hover {\n",
              "      background-color: #E2EBFA;\n",
              "      box-shadow: 0px 1px 2px rgba(60, 64, 67, 0.3), 0px 1px 3px 1px rgba(60, 64, 67, 0.15);\n",
              "      fill: #174EA6;\n",
              "    }\n",
              "\n",
              "    .colab-df-buttons div {\n",
              "      margin-bottom: 4px;\n",
              "    }\n",
              "\n",
              "    [theme=dark] .colab-df-convert {\n",
              "      background-color: #3B4455;\n",
              "      fill: #D2E3FC;\n",
              "    }\n",
              "\n",
              "    [theme=dark] .colab-df-convert:hover {\n",
              "      background-color: #434B5C;\n",
              "      box-shadow: 0px 1px 3px 1px rgba(0, 0, 0, 0.15);\n",
              "      filter: drop-shadow(0px 1px 2px rgba(0, 0, 0, 0.3));\n",
              "      fill: #FFFFFF;\n",
              "    }\n",
              "  </style>\n",
              "\n",
              "    <script>\n",
              "      const buttonEl =\n",
              "        document.querySelector('#df-e77eabcc-06bd-4bdb-a96e-d598664c0a1f button.colab-df-convert');\n",
              "      buttonEl.style.display =\n",
              "        google.colab.kernel.accessAllowed ? 'block' : 'none';\n",
              "\n",
              "      async function convertToInteractive(key) {\n",
              "        const element = document.querySelector('#df-e77eabcc-06bd-4bdb-a96e-d598664c0a1f');\n",
              "        const dataTable =\n",
              "          await google.colab.kernel.invokeFunction('convertToInteractive',\n",
              "                                                    [key], {});\n",
              "        if (!dataTable) return;\n",
              "\n",
              "        const docLinkHtml = 'Like what you see? Visit the ' +\n",
              "          '<a target=\"_blank\" href=https://colab.research.google.com/notebooks/data_table.ipynb>data table notebook</a>'\n",
              "          + ' to learn more about interactive tables.';\n",
              "        element.innerHTML = '';\n",
              "        dataTable['output_type'] = 'display_data';\n",
              "        await google.colab.output.renderOutput(dataTable, element);\n",
              "        const docLink = document.createElement('div');\n",
              "        docLink.innerHTML = docLinkHtml;\n",
              "        element.appendChild(docLink);\n",
              "      }\n",
              "    </script>\n",
              "  </div>\n",
              "\n",
              "\n",
              "<div id=\"df-c4710bc1-15b7-4bdf-a523-4e9a492f4eae\">\n",
              "  <button class=\"colab-df-quickchart\" onclick=\"quickchart('df-c4710bc1-15b7-4bdf-a523-4e9a492f4eae')\"\n",
              "            title=\"Suggest charts\"\n",
              "            style=\"display:none;\">\n",
              "\n",
              "<svg xmlns=\"http://www.w3.org/2000/svg\" height=\"24px\"viewBox=\"0 0 24 24\"\n",
              "     width=\"24px\">\n",
              "    <g>\n",
              "        <path d=\"M19 3H5c-1.1 0-2 .9-2 2v14c0 1.1.9 2 2 2h14c1.1 0 2-.9 2-2V5c0-1.1-.9-2-2-2zM9 17H7v-7h2v7zm4 0h-2V7h2v10zm4 0h-2v-4h2v4z\"/>\n",
              "    </g>\n",
              "</svg>\n",
              "  </button>\n",
              "\n",
              "<style>\n",
              "  .colab-df-quickchart {\n",
              "      --bg-color: #E8F0FE;\n",
              "      --fill-color: #1967D2;\n",
              "      --hover-bg-color: #E2EBFA;\n",
              "      --hover-fill-color: #174EA6;\n",
              "      --disabled-fill-color: #AAA;\n",
              "      --disabled-bg-color: #DDD;\n",
              "  }\n",
              "\n",
              "  [theme=dark] .colab-df-quickchart {\n",
              "      --bg-color: #3B4455;\n",
              "      --fill-color: #D2E3FC;\n",
              "      --hover-bg-color: #434B5C;\n",
              "      --hover-fill-color: #FFFFFF;\n",
              "      --disabled-bg-color: #3B4455;\n",
              "      --disabled-fill-color: #666;\n",
              "  }\n",
              "\n",
              "  .colab-df-quickchart {\n",
              "    background-color: var(--bg-color);\n",
              "    border: none;\n",
              "    border-radius: 50%;\n",
              "    cursor: pointer;\n",
              "    display: none;\n",
              "    fill: var(--fill-color);\n",
              "    height: 32px;\n",
              "    padding: 0;\n",
              "    width: 32px;\n",
              "  }\n",
              "\n",
              "  .colab-df-quickchart:hover {\n",
              "    background-color: var(--hover-bg-color);\n",
              "    box-shadow: 0 1px 2px rgba(60, 64, 67, 0.3), 0 1px 3px 1px rgba(60, 64, 67, 0.15);\n",
              "    fill: var(--button-hover-fill-color);\n",
              "  }\n",
              "\n",
              "  .colab-df-quickchart-complete:disabled,\n",
              "  .colab-df-quickchart-complete:disabled:hover {\n",
              "    background-color: var(--disabled-bg-color);\n",
              "    fill: var(--disabled-fill-color);\n",
              "    box-shadow: none;\n",
              "  }\n",
              "\n",
              "  .colab-df-spinner {\n",
              "    border: 2px solid var(--fill-color);\n",
              "    border-color: transparent;\n",
              "    border-bottom-color: var(--fill-color);\n",
              "    animation:\n",
              "      spin 1s steps(1) infinite;\n",
              "  }\n",
              "\n",
              "  @keyframes spin {\n",
              "    0% {\n",
              "      border-color: transparent;\n",
              "      border-bottom-color: var(--fill-color);\n",
              "      border-left-color: var(--fill-color);\n",
              "    }\n",
              "    20% {\n",
              "      border-color: transparent;\n",
              "      border-left-color: var(--fill-color);\n",
              "      border-top-color: var(--fill-color);\n",
              "    }\n",
              "    30% {\n",
              "      border-color: transparent;\n",
              "      border-left-color: var(--fill-color);\n",
              "      border-top-color: var(--fill-color);\n",
              "      border-right-color: var(--fill-color);\n",
              "    }\n",
              "    40% {\n",
              "      border-color: transparent;\n",
              "      border-right-color: var(--fill-color);\n",
              "      border-top-color: var(--fill-color);\n",
              "    }\n",
              "    60% {\n",
              "      border-color: transparent;\n",
              "      border-right-color: var(--fill-color);\n",
              "    }\n",
              "    80% {\n",
              "      border-color: transparent;\n",
              "      border-right-color: var(--fill-color);\n",
              "      border-bottom-color: var(--fill-color);\n",
              "    }\n",
              "    90% {\n",
              "      border-color: transparent;\n",
              "      border-bottom-color: var(--fill-color);\n",
              "    }\n",
              "  }\n",
              "</style>\n",
              "\n",
              "  <script>\n",
              "    async function quickchart(key) {\n",
              "      const quickchartButtonEl =\n",
              "        document.querySelector('#' + key + ' button');\n",
              "      quickchartButtonEl.disabled = true;  // To prevent multiple clicks.\n",
              "      quickchartButtonEl.classList.add('colab-df-spinner');\n",
              "      try {\n",
              "        const charts = await google.colab.kernel.invokeFunction(\n",
              "            'suggestCharts', [key], {});\n",
              "      } catch (error) {\n",
              "        console.error('Error during call to suggestCharts:', error);\n",
              "      }\n",
              "      quickchartButtonEl.classList.remove('colab-df-spinner');\n",
              "      quickchartButtonEl.classList.add('colab-df-quickchart-complete');\n",
              "    }\n",
              "    (() => {\n",
              "      let quickchartButtonEl =\n",
              "        document.querySelector('#df-c4710bc1-15b7-4bdf-a523-4e9a492f4eae button');\n",
              "      quickchartButtonEl.style.display =\n",
              "        google.colab.kernel.accessAllowed ? 'block' : 'none';\n",
              "    })();\n",
              "  </script>\n",
              "</div>\n",
              "    </div>\n",
              "  </div>\n"
            ]
          },
          "metadata": {},
          "execution_count": 9
        }
      ]
    },
    {
      "cell_type": "code",
      "source": [
        "df[\"ARRIVAL DATE\"] = pd.to_datetime(df[\"ARRIVAL DATE\"])\n",
        "df[\"Year\"] = df[\"ARRIVAL DATE\"].dt.year\n",
        "df[\"Month\"] = df[\"ARRIVAL DATE\"].dt.month\n",
        "df[\"Day\"] = pd.to_datetime(df[\"ARRIVAL DATE\"]).dt.day"
      ],
      "metadata": {
        "colab": {
          "base_uri": "https://localhost:8080/"
        },
        "id": "bBB6ETXwpc3h",
        "outputId": "a850ef27-05a4-4932-a755-8157624aa5cb"
      },
      "execution_count": 10,
      "outputs": [
        {
          "output_type": "stream",
          "name": "stderr",
          "text": [
            "<ipython-input-10-a607eaeac775>:1: UserWarning: Parsing dates in DD/MM/YYYY format when dayfirst=False (the default) was specified. This may lead to inconsistently parsed dates! Specify a format to ensure consistent parsing.\n",
            "  df[\"ARRIVAL DATE\"] = pd.to_datetime(df[\"ARRIVAL DATE\"])\n"
          ]
        }
      ]
    },
    {
      "cell_type": "code",
      "source": [
        "df[\"HS CODE\"].value_counts(),df[\"HS CODE\"].isna().sum()"
      ],
      "metadata": {
        "colab": {
          "base_uri": "https://localhost:8080/"
        },
        "id": "vZX5-GrFpmDt",
        "outputId": "9c35840d-99a9-4b52-ed3e-169160448cc6"
      },
      "execution_count": 11,
      "outputs": [
        {
          "output_type": "execute_result",
          "data": {
            "text/plain": [
              "(10063090       9690\n",
              " 10063020       9339\n",
              " 10063010       7629\n",
              " 100630          347\n",
              " 10063000        322\n",
              " 1006301000      203\n",
              " 1006306709      175\n",
              " 10063099        134\n",
              " 10063000000     119\n",
              " 1006306700       66\n",
              " 1006309809       64\n",
              " 1006309000       48\n",
              " 1006309800       27\n",
              " 10063040         20\n",
              " 10063090900      17\n",
              " 1006306500       15\n",
              " 10063021         12\n",
              " 1006300000        8\n",
              " 10063030          8\n",
              " 1006309600        7\n",
              " 1006301020        6\n",
              " 10063090000       5\n",
              " 1006309400        5\n",
              " 1006306300        2\n",
              " 10063011          2\n",
              " 10063001          2\n",
              " 100630250         2\n",
              " 100630980         2\n",
              " 10063010200       2\n",
              " 1006302700        1\n",
              " 10063030200       1\n",
              " 1006301090        1\n",
              " 10063099200       1\n",
              " 1006301040        1\n",
              " 1006301920        1\n",
              " 1006304400        1\n",
              " 1006300090        1\n",
              " 1006309020        1\n",
              " 10063090100       1\n",
              " 10063010000       1\n",
              " 1006302300        1\n",
              " 100630960         1\n",
              " 10063021220       1\n",
              " 100630670         1\n",
              " Name: HS CODE, dtype: int64,\n",
              " 0)"
            ]
          },
          "metadata": {},
          "execution_count": 11
        }
      ]
    },
    {
      "cell_type": "code",
      "source": [
        "df[\"HS CODE DESCRIPTION\"].value_counts()\n",
        "df[\"HS CODE DESCRIPTION\"].isna().sum()"
      ],
      "metadata": {
        "colab": {
          "base_uri": "https://localhost:8080/"
        },
        "id": "-TRRHlcwpp8k",
        "outputId": "398f75e4-e723-423c-fbbc-72b1dda29fbf"
      },
      "execution_count": 12,
      "outputs": [
        {
          "output_type": "execute_result",
          "data": {
            "text/plain": [
              "147"
            ]
          },
          "metadata": {},
          "execution_count": 12
        }
      ]
    },
    {
      "cell_type": "code",
      "source": [
        "df.dropna(subset=[\"HS CODE DESCRIPTION\"],inplace = True)"
      ],
      "metadata": {
        "id": "DOjluzjUpveI"
      },
      "execution_count": 13,
      "outputs": []
    },
    {
      "cell_type": "code",
      "source": [
        "df[\"HS CODE DESCRIPTION\"].isna().sum()"
      ],
      "metadata": {
        "colab": {
          "base_uri": "https://localhost:8080/"
        },
        "id": "y9yDJCaEpzTd",
        "outputId": "7bdc225c-4efc-441c-b66f-ccf19a356911"
      },
      "execution_count": 14,
      "outputs": [
        {
          "output_type": "execute_result",
          "data": {
            "text/plain": [
              "0"
            ]
          },
          "metadata": {},
          "execution_count": 14
        }
      ]
    },
    {
      "cell_type": "code",
      "source": [
        "df[\"IMPORTER NAME\"].value_counts()\n",
        "df[\"IMPORTER NAME\"].isna().sum()"
      ],
      "metadata": {
        "colab": {
          "base_uri": "https://localhost:8080/"
        },
        "id": "s9Ahj4zep30W",
        "outputId": "3b07daf8-2f83-40f4-c3d2-e884c84524fb"
      },
      "execution_count": 15,
      "outputs": [
        {
          "output_type": "execute_result",
          "data": {
            "text/plain": [
              "129"
            ]
          },
          "metadata": {},
          "execution_count": 15
        }
      ]
    },
    {
      "cell_type": "code",
      "source": [
        "df.dropna(subset=[\"IMPORTER NAME\"],inplace = True)"
      ],
      "metadata": {
        "id": "HKrrNQAap7r0"
      },
      "execution_count": 16,
      "outputs": []
    },
    {
      "cell_type": "code",
      "source": [
        "df[\"IMPORTER NAME\"].isna().sum()"
      ],
      "metadata": {
        "colab": {
          "base_uri": "https://localhost:8080/"
        },
        "id": "CCyy0_wNp_EV",
        "outputId": "78844eeb-2548-4870-8c4c-ea5630870c60"
      },
      "execution_count": 17,
      "outputs": [
        {
          "output_type": "execute_result",
          "data": {
            "text/plain": [
              "0"
            ]
          },
          "metadata": {},
          "execution_count": 17
        }
      ]
    },
    {
      "cell_type": "code",
      "source": [
        "df[\"IMPORTER ADDRESS\"].value_counts()"
      ],
      "metadata": {
        "colab": {
          "base_uri": "https://localhost:8080/"
        },
        "id": "m-o99F3pqDLA",
        "outputId": "ac65c328-2292-42a0-d2c9-12fdae57e831"
      },
      "execution_count": 18,
      "outputs": [
        {
          "output_type": "execute_result",
          "data": {
            "text/plain": [
              ".                                                                                                                22170\n",
              "2401 DELTA LANE, ELK GROVE VILLAGE,IL 60007 CHICAGO USA                                                            125\n",
              "PO BOX 2251,MUSCAT                                                                                                 116\n",
              "INC 127-40 WILLETS POINT BLVD FLUSH NEWYORK-113681506 (USA) PH:-0017158074900 1-7185074600 TELEX 1-7185074798      115\n",
              "39743 LEMBKE DRIVE, STERLING HEIGHTS MI 48313 USA                                                                   84\n",
              "                                                                                                                 ...  \n",
              "AV CARDENAL SANTIAGO LUIZ COPELLO. 81-05.308.000                                                                     1\n",
              "RUA N´GOLA KILUANJE NO 42/44 Luanda                                                                                  1\n",
              "doulatgonj, Jibannagar, Chuadanga,7230, Bangladesh                                                                   1\n",
              "Baneswar Bazar, Puthia, Puthia PS,Rajshahi- 6260, Bangladesh                                                         1\n",
              "118/36 ST.ANTHONYS MW. OLD NEGOMBO ROAD WATTALA                                                                      1\n",
              "Name: IMPORTER ADDRESS, Length: 906, dtype: int64"
            ]
          },
          "metadata": {},
          "execution_count": 18
        }
      ]
    },
    {
      "cell_type": "code",
      "source": [
        "df.drop([\"IMPORTER ADDRESS\"],axis = 1,inplace = True)"
      ],
      "metadata": {
        "id": "qhyN3fpoqH-b"
      },
      "execution_count": 19,
      "outputs": []
    },
    {
      "cell_type": "code",
      "source": [
        "df[\"IMPORTER COUNTRY\"].value_counts(),df[\"IMPORTER COUNTRY\"].isnull().sum()\n",
        ""
      ],
      "metadata": {
        "colab": {
          "base_uri": "https://localhost:8080/"
        },
        "id": "K0AhX4uDqPCR",
        "outputId": "1556718d-af70-43f3-8bab-338298c85b69"
      },
      "execution_count": 20,
      "outputs": [
        {
          "output_type": "execute_result",
          "data": {
            "text/plain": [
              "(Nepal                   3559\n",
              " United Arab Emirates    2632\n",
              " United States           1940\n",
              " Bhutan                  1584\n",
              " Saudi Arabia            1471\n",
              "                         ... \n",
              " Estonia                    1\n",
              " Cook Islands               1\n",
              " Uruguay                    1\n",
              " Tajikistan                 1\n",
              " Colombia                   1\n",
              " Name: IMPORTER COUNTRY, Length: 149, dtype: int64,\n",
              " 0)"
            ]
          },
          "metadata": {},
          "execution_count": 20
        }
      ]
    },
    {
      "cell_type": "code",
      "source": [
        "df[\"IMPORTER COUNTRY\"].unique()"
      ],
      "metadata": {
        "colab": {
          "base_uri": "https://localhost:8080/"
        },
        "id": "SY9ogr2UrVku",
        "outputId": "cf18dda6-2f77-4f88-8cf5-c0513580047f"
      },
      "execution_count": 21,
      "outputs": [
        {
          "output_type": "execute_result",
          "data": {
            "text/plain": [
              "array(['United Arab Emirates', 'Australia', 'Switzerland', 'Egypt',\n",
              "       'France', 'Ghana', 'Hong Kong', 'Iran', 'Kenya', 'Malaysia',\n",
              "       'Nigeria', 'New Zealand', 'Saudi Arabia', 'Ukraine',\n",
              "       'United Kingdom', 'United States', 'South African Republic',\n",
              "       'Canada', 'Kuwait', 'Sri Lanka', 'Singapore', 'Philippines',\n",
              "       'Netherlands', 'India', 'Russian Federation', 'Bahrain', 'Benin',\n",
              "       'Algeria', 'Guinea', 'Israel', 'Iraq', 'Lebanon', 'Nepal', 'Oman',\n",
              "       'Seychelles', 'Suriname', 'Yemen', 'Brunei Darussalam', 'Djibouti',\n",
              "       'Qatar', 'Azerbaijan', 'South Sudan', 'Senegal', 'Bangladesh',\n",
              "       'Angola', 'Argentina', 'Morocco', 'Tanzania', 'Uganda', 'Italy',\n",
              "       'Moldova', 'Somalia', 'Gambia', 'Haiti', 'Jordan', 'Niger',\n",
              "       'Burkina Faso', 'Norway', 'Liberia', 'Togo', 'Côte D Ivoire',\n",
              "       'Madagascar', 'Mali', 'Congo, The Democratic Republic Of The',\n",
              "       'Syrian Arab Republic', 'Sudan', 'Sierra Leone', 'Mauritius',\n",
              "       'Mozambique', 'Zambia', 'Germany', 'Georgia', 'Sweden', 'Maldives',\n",
              "       'Réunion', 'Libya', 'Poland', 'Bulgaria', 'Cambodia',\n",
              "       'Central African Republic', 'Kazakhstan', 'Thailand', 'Congo',\n",
              "       'Mauritania', 'Belgium', 'Ecuador', 'South Korea', 'Botswana',\n",
              "       'Japan', 'Spain', 'Curaçao', 'Armenia', 'Turkmenistan', 'Comoros',\n",
              "       'Gabon', 'Guadeloupe', 'Czech Republic', 'Chile', 'China', 'Fiji',\n",
              "       'Bhutan', 'Mexico', 'Namibia', 'Cameroon', 'Jamaica', 'Finland',\n",
              "       'Portugal', 'Venezuela', 'Ireland', 'Zimbabwe', 'Nicaragua',\n",
              "       'Denmark', 'Tajikistan', 'Belize', 'Puerto Rico', 'Malawi',\n",
              "       'Kyrgyzstan', 'Greece', 'Slovenia', 'Equatorial Guinea', 'Rwanda',\n",
              "       'Brazil', 'Uruguay', 'Viet Nam', 'Papua New Guinea', 'Ethiopia',\n",
              "       'Cook Islands', 'Afghanistan', 'Colombia', 'Sao Tome And Principe',\n",
              "       'Estonia', 'Timor-Leste', 'Indonesia', 'Croatia', 'Cyprus',\n",
              "       'Bosnia And Herzegovina', 'Belarus', 'Tonga', 'Uzbekistan',\n",
              "       'Pakistan', 'Trinidad And Tobago', 'Vanuatu', 'Nauru', 'Serbia',\n",
              "       'Myanmar', 'Lithuania', 'Guatemala', 'Saint Lucia', 'Taiwan'],\n",
              "      dtype=object)"
            ]
          },
          "metadata": {},
          "execution_count": 21
        }
      ]
    },
    {
      "cell_type": "code",
      "source": [
        "df[\"CITY STATE\"].value_counts(),df[\"CITY STATE\"].isnull().sum()"
      ],
      "metadata": {
        "colab": {
          "base_uri": "https://localhost:8080/"
        },
        "id": "cA6DwIrjrahq",
        "outputId": "ebbf9955-af09-493e-825c-e570e7f2db73"
      },
      "execution_count": 22,
      "outputs": [
        {
          "output_type": "execute_result",
          "data": {
            "text/plain": [
              "(United Arab Emirates        2422\n",
              " Nepal                       2405\n",
              " United States               1463\n",
              " NP - Nepal                  1154\n",
              " Saudi Arabia                1129\n",
              "                             ... \n",
              " UNITED KINGDOM                 1\n",
              " Central African Republic       1\n",
              " Abu Dhabi                      1\n",
              " Uruguay                        1\n",
              " Ecuador                        1\n",
              " Name: CITY STATE, Length: 348, dtype: int64,\n",
              " 6)"
            ]
          },
          "metadata": {},
          "execution_count": 22
        }
      ]
    },
    {
      "cell_type": "code",
      "source": [
        "df[\"IMPORTER COUNTRY\"].unique()"
      ],
      "metadata": {
        "colab": {
          "base_uri": "https://localhost:8080/"
        },
        "id": "X9-CW55RreYg",
        "outputId": "6594833d-1791-401f-905b-a809164c7691"
      },
      "execution_count": 23,
      "outputs": [
        {
          "output_type": "execute_result",
          "data": {
            "text/plain": [
              "array(['United Arab Emirates', 'Australia', 'Switzerland', 'Egypt',\n",
              "       'France', 'Ghana', 'Hong Kong', 'Iran', 'Kenya', 'Malaysia',\n",
              "       'Nigeria', 'New Zealand', 'Saudi Arabia', 'Ukraine',\n",
              "       'United Kingdom', 'United States', 'South African Republic',\n",
              "       'Canada', 'Kuwait', 'Sri Lanka', 'Singapore', 'Philippines',\n",
              "       'Netherlands', 'India', 'Russian Federation', 'Bahrain', 'Benin',\n",
              "       'Algeria', 'Guinea', 'Israel', 'Iraq', 'Lebanon', 'Nepal', 'Oman',\n",
              "       'Seychelles', 'Suriname', 'Yemen', 'Brunei Darussalam', 'Djibouti',\n",
              "       'Qatar', 'Azerbaijan', 'South Sudan', 'Senegal', 'Bangladesh',\n",
              "       'Angola', 'Argentina', 'Morocco', 'Tanzania', 'Uganda', 'Italy',\n",
              "       'Moldova', 'Somalia', 'Gambia', 'Haiti', 'Jordan', 'Niger',\n",
              "       'Burkina Faso', 'Norway', 'Liberia', 'Togo', 'Côte D Ivoire',\n",
              "       'Madagascar', 'Mali', 'Congo, The Democratic Republic Of The',\n",
              "       'Syrian Arab Republic', 'Sudan', 'Sierra Leone', 'Mauritius',\n",
              "       'Mozambique', 'Zambia', 'Germany', 'Georgia', 'Sweden', 'Maldives',\n",
              "       'Réunion', 'Libya', 'Poland', 'Bulgaria', 'Cambodia',\n",
              "       'Central African Republic', 'Kazakhstan', 'Thailand', 'Congo',\n",
              "       'Mauritania', 'Belgium', 'Ecuador', 'South Korea', 'Botswana',\n",
              "       'Japan', 'Spain', 'Curaçao', 'Armenia', 'Turkmenistan', 'Comoros',\n",
              "       'Gabon', 'Guadeloupe', 'Czech Republic', 'Chile', 'China', 'Fiji',\n",
              "       'Bhutan', 'Mexico', 'Namibia', 'Cameroon', 'Jamaica', 'Finland',\n",
              "       'Portugal', 'Venezuela', 'Ireland', 'Zimbabwe', 'Nicaragua',\n",
              "       'Denmark', 'Tajikistan', 'Belize', 'Puerto Rico', 'Malawi',\n",
              "       'Kyrgyzstan', 'Greece', 'Slovenia', 'Equatorial Guinea', 'Rwanda',\n",
              "       'Brazil', 'Uruguay', 'Viet Nam', 'Papua New Guinea', 'Ethiopia',\n",
              "       'Cook Islands', 'Afghanistan', 'Colombia', 'Sao Tome And Principe',\n",
              "       'Estonia', 'Timor-Leste', 'Indonesia', 'Croatia', 'Cyprus',\n",
              "       'Bosnia And Herzegovina', 'Belarus', 'Tonga', 'Uzbekistan',\n",
              "       'Pakistan', 'Trinidad And Tobago', 'Vanuatu', 'Nauru', 'Serbia',\n",
              "       'Myanmar', 'Lithuania', 'Guatemala', 'Saint Lucia', 'Taiwan'],\n",
              "      dtype=object)"
            ]
          },
          "metadata": {},
          "execution_count": 23
        }
      ]
    },
    {
      "cell_type": "code",
      "source": [
        "df[df[\"CITY STATE\"] == df[\"IMPORTER COUNTRY\"]]"
      ],
      "metadata": {
        "colab": {
          "base_uri": "https://localhost:8080/",
          "height": 947
        },
        "id": "VXNY1NNIrjml",
        "outputId": "d8a283e8-c8e5-4e4d-bbe7-49e3419d6522"
      },
      "execution_count": 24,
      "outputs": [
        {
          "output_type": "execute_result",
          "data": {
            "text/plain": [
              "        NO ARRIVAL DATE   HS CODE                        HS CODE DESCRIPTION  \\\n",
              "0        1   2019-01-30  10063020                               Basmati Rice   \n",
              "1        2   2019-01-30  10063020                               Basmati Rice   \n",
              "2        3   2019-01-30  10063010                            Rice, parboiled   \n",
              "3        4   2019-01-30  10063010                            Rice, parboiled   \n",
              "4        5   2019-01-30  10063090  Rice Excptg Parboiled (Excl Basmati Rice)   \n",
              "...    ...          ...       ...                                        ...   \n",
              "8690  8691   2022-01-01  10063090  Rice Excptg Parboiled (Excl Basmati Rice)   \n",
              "8691  8692   2022-01-01  10063090  Rice Excptg Parboiled (Excl Basmati Rice)   \n",
              "8692  8693   2022-01-01  10063090  Rice Excptg Parboiled (Excl Basmati Rice)   \n",
              "8693  8694   2022-01-01  10063010                            Rice, parboiled   \n",
              "8694  8695   2022-01-01  10063010                            Rice, parboiled   \n",
              "\n",
              "                             IMPORTER NAME      IMPORTER COUNTRY  \\\n",
              "0                NATRAJ FOOD STUFF FACTORY  United Arab Emirates   \n",
              "1                KV A GENERAL TRADING LLC.  United Arab Emirates   \n",
              "2     NIRAPARA MIDDLEEAST GENERALTRAD LLC.  United Arab Emirates   \n",
              "3                     MATSYA OVER SEASLTD.  United Arab Emirates   \n",
              "4         SARAVANA FOOD STUFF FACTORY LLC.  United Arab Emirates   \n",
              "...                                    ...                   ...   \n",
              "8690                    SREERAMA IMPEXLTD.           New Zealand   \n",
              "8691                    SREERAMA IMPEXLTD.           New Zealand   \n",
              "8692                    SREERAMA IMPEXLTD.           New Zealand   \n",
              "8693          HASSON FOOD COMPANY PTE.LTD.             Singapore   \n",
              "8694                  SRI AMBIKAS PTE.LTD.             Singapore   \n",
              "\n",
              "                CITY STATE TEL FAX E-MAIL  ... NOTIFY ADDRESS VOLUME  \\\n",
              "0     United Arab Emirates   .   .      .  ...            NaN    0.0   \n",
              "1     United Arab Emirates   .   .      .  ...            NaN    0.0   \n",
              "2     United Arab Emirates   .   .      .  ...            NaN    0.0   \n",
              "3     United Arab Emirates   .   .      .  ...            NaN    0.0   \n",
              "4     United Arab Emirates   .   .      .  ...            NaN    0.0   \n",
              "...                    ...  ..  ..    ...  ...            ...    ...   \n",
              "8690           New Zealand   .   .      .  ...            NaN    0.0   \n",
              "8691           New Zealand   .   .      .  ...            NaN    0.0   \n",
              "8692           New Zealand   .   .      .  ...            NaN    0.0   \n",
              "8693             Singapore   .   .      .  ...            NaN    0.0   \n",
              "8694             Singapore   .   .      .  ...            NaN    0.0   \n",
              "\n",
              "     SHIPPER COUNTRY CONTAINER COUNT  TOTAL TEUS  Final Qty  \\\n",
              "0                NaN               0           0        NaN   \n",
              "1                NaN               0           0        NaN   \n",
              "2                NaN               0           0        NaN   \n",
              "3                NaN               0           0        NaN   \n",
              "4                NaN               0           0        NaN   \n",
              "...              ...             ...         ...        ...   \n",
              "8690             NaN               0           0        NaN   \n",
              "8691             NaN               0           0        NaN   \n",
              "8692             NaN               0           0        NaN   \n",
              "8693             NaN               0           0        NaN   \n",
              "8694             NaN               0           0        NaN   \n",
              "\n",
              "     PORT OF DEPARTURE.1  Year Month  Day  \n",
              "0                    NaN  2019     1   30  \n",
              "1                    NaN  2019     1   30  \n",
              "2                    NaN  2019     1   30  \n",
              "3                    NaN  2019     1   30  \n",
              "4                    NaN  2019     1   30  \n",
              "...                  ...   ...   ...  ...  \n",
              "8690                 NaN  2022     1    1  \n",
              "8691                 NaN  2022     1    1  \n",
              "8692                 NaN  2022     1    1  \n",
              "8693                 NaN  2022     1    1  \n",
              "8694                 NaN  2022     1    1  \n",
              "\n",
              "[19646 rows x 43 columns]"
            ],
            "text/html": [
              "\n",
              "  <div id=\"df-c5adb2c3-9aca-4c6a-84a8-a41a98bcd8f2\" class=\"colab-df-container\">\n",
              "    <div>\n",
              "<style scoped>\n",
              "    .dataframe tbody tr th:only-of-type {\n",
              "        vertical-align: middle;\n",
              "    }\n",
              "\n",
              "    .dataframe tbody tr th {\n",
              "        vertical-align: top;\n",
              "    }\n",
              "\n",
              "    .dataframe thead th {\n",
              "        text-align: right;\n",
              "    }\n",
              "</style>\n",
              "<table border=\"1\" class=\"dataframe\">\n",
              "  <thead>\n",
              "    <tr style=\"text-align: right;\">\n",
              "      <th></th>\n",
              "      <th>NO</th>\n",
              "      <th>ARRIVAL DATE</th>\n",
              "      <th>HS CODE</th>\n",
              "      <th>HS CODE DESCRIPTION</th>\n",
              "      <th>IMPORTER NAME</th>\n",
              "      <th>IMPORTER COUNTRY</th>\n",
              "      <th>CITY STATE</th>\n",
              "      <th>TEL</th>\n",
              "      <th>FAX</th>\n",
              "      <th>E-MAIL</th>\n",
              "      <th>...</th>\n",
              "      <th>NOTIFY ADDRESS</th>\n",
              "      <th>VOLUME</th>\n",
              "      <th>SHIPPER COUNTRY</th>\n",
              "      <th>CONTAINER COUNT</th>\n",
              "      <th>TOTAL TEUS</th>\n",
              "      <th>Final Qty</th>\n",
              "      <th>PORT OF DEPARTURE.1</th>\n",
              "      <th>Year</th>\n",
              "      <th>Month</th>\n",
              "      <th>Day</th>\n",
              "    </tr>\n",
              "  </thead>\n",
              "  <tbody>\n",
              "    <tr>\n",
              "      <th>0</th>\n",
              "      <td>1</td>\n",
              "      <td>2019-01-30</td>\n",
              "      <td>10063020</td>\n",
              "      <td>Basmati Rice</td>\n",
              "      <td>NATRAJ FOOD STUFF FACTORY</td>\n",
              "      <td>United Arab Emirates</td>\n",
              "      <td>United Arab Emirates</td>\n",
              "      <td>.</td>\n",
              "      <td>.</td>\n",
              "      <td>.</td>\n",
              "      <td>...</td>\n",
              "      <td>NaN</td>\n",
              "      <td>0.0</td>\n",
              "      <td>NaN</td>\n",
              "      <td>0</td>\n",
              "      <td>0</td>\n",
              "      <td>NaN</td>\n",
              "      <td>NaN</td>\n",
              "      <td>2019</td>\n",
              "      <td>1</td>\n",
              "      <td>30</td>\n",
              "    </tr>\n",
              "    <tr>\n",
              "      <th>1</th>\n",
              "      <td>2</td>\n",
              "      <td>2019-01-30</td>\n",
              "      <td>10063020</td>\n",
              "      <td>Basmati Rice</td>\n",
              "      <td>KV A GENERAL TRADING LLC.</td>\n",
              "      <td>United Arab Emirates</td>\n",
              "      <td>United Arab Emirates</td>\n",
              "      <td>.</td>\n",
              "      <td>.</td>\n",
              "      <td>.</td>\n",
              "      <td>...</td>\n",
              "      <td>NaN</td>\n",
              "      <td>0.0</td>\n",
              "      <td>NaN</td>\n",
              "      <td>0</td>\n",
              "      <td>0</td>\n",
              "      <td>NaN</td>\n",
              "      <td>NaN</td>\n",
              "      <td>2019</td>\n",
              "      <td>1</td>\n",
              "      <td>30</td>\n",
              "    </tr>\n",
              "    <tr>\n",
              "      <th>2</th>\n",
              "      <td>3</td>\n",
              "      <td>2019-01-30</td>\n",
              "      <td>10063010</td>\n",
              "      <td>Rice, parboiled</td>\n",
              "      <td>NIRAPARA MIDDLEEAST GENERALTRAD LLC.</td>\n",
              "      <td>United Arab Emirates</td>\n",
              "      <td>United Arab Emirates</td>\n",
              "      <td>.</td>\n",
              "      <td>.</td>\n",
              "      <td>.</td>\n",
              "      <td>...</td>\n",
              "      <td>NaN</td>\n",
              "      <td>0.0</td>\n",
              "      <td>NaN</td>\n",
              "      <td>0</td>\n",
              "      <td>0</td>\n",
              "      <td>NaN</td>\n",
              "      <td>NaN</td>\n",
              "      <td>2019</td>\n",
              "      <td>1</td>\n",
              "      <td>30</td>\n",
              "    </tr>\n",
              "    <tr>\n",
              "      <th>3</th>\n",
              "      <td>4</td>\n",
              "      <td>2019-01-30</td>\n",
              "      <td>10063010</td>\n",
              "      <td>Rice, parboiled</td>\n",
              "      <td>MATSYA OVER SEASLTD.</td>\n",
              "      <td>United Arab Emirates</td>\n",
              "      <td>United Arab Emirates</td>\n",
              "      <td>.</td>\n",
              "      <td>.</td>\n",
              "      <td>.</td>\n",
              "      <td>...</td>\n",
              "      <td>NaN</td>\n",
              "      <td>0.0</td>\n",
              "      <td>NaN</td>\n",
              "      <td>0</td>\n",
              "      <td>0</td>\n",
              "      <td>NaN</td>\n",
              "      <td>NaN</td>\n",
              "      <td>2019</td>\n",
              "      <td>1</td>\n",
              "      <td>30</td>\n",
              "    </tr>\n",
              "    <tr>\n",
              "      <th>4</th>\n",
              "      <td>5</td>\n",
              "      <td>2019-01-30</td>\n",
              "      <td>10063090</td>\n",
              "      <td>Rice Excptg Parboiled (Excl Basmati Rice)</td>\n",
              "      <td>SARAVANA FOOD STUFF FACTORY LLC.</td>\n",
              "      <td>United Arab Emirates</td>\n",
              "      <td>United Arab Emirates</td>\n",
              "      <td>.</td>\n",
              "      <td>.</td>\n",
              "      <td>.</td>\n",
              "      <td>...</td>\n",
              "      <td>NaN</td>\n",
              "      <td>0.0</td>\n",
              "      <td>NaN</td>\n",
              "      <td>0</td>\n",
              "      <td>0</td>\n",
              "      <td>NaN</td>\n",
              "      <td>NaN</td>\n",
              "      <td>2019</td>\n",
              "      <td>1</td>\n",
              "      <td>30</td>\n",
              "    </tr>\n",
              "    <tr>\n",
              "      <th>...</th>\n",
              "      <td>...</td>\n",
              "      <td>...</td>\n",
              "      <td>...</td>\n",
              "      <td>...</td>\n",
              "      <td>...</td>\n",
              "      <td>...</td>\n",
              "      <td>...</td>\n",
              "      <td>...</td>\n",
              "      <td>...</td>\n",
              "      <td>...</td>\n",
              "      <td>...</td>\n",
              "      <td>...</td>\n",
              "      <td>...</td>\n",
              "      <td>...</td>\n",
              "      <td>...</td>\n",
              "      <td>...</td>\n",
              "      <td>...</td>\n",
              "      <td>...</td>\n",
              "      <td>...</td>\n",
              "      <td>...</td>\n",
              "      <td>...</td>\n",
              "    </tr>\n",
              "    <tr>\n",
              "      <th>8690</th>\n",
              "      <td>8691</td>\n",
              "      <td>2022-01-01</td>\n",
              "      <td>10063090</td>\n",
              "      <td>Rice Excptg Parboiled (Excl Basmati Rice)</td>\n",
              "      <td>SREERAMA IMPEXLTD.</td>\n",
              "      <td>New Zealand</td>\n",
              "      <td>New Zealand</td>\n",
              "      <td>.</td>\n",
              "      <td>.</td>\n",
              "      <td>.</td>\n",
              "      <td>...</td>\n",
              "      <td>NaN</td>\n",
              "      <td>0.0</td>\n",
              "      <td>NaN</td>\n",
              "      <td>0</td>\n",
              "      <td>0</td>\n",
              "      <td>NaN</td>\n",
              "      <td>NaN</td>\n",
              "      <td>2022</td>\n",
              "      <td>1</td>\n",
              "      <td>1</td>\n",
              "    </tr>\n",
              "    <tr>\n",
              "      <th>8691</th>\n",
              "      <td>8692</td>\n",
              "      <td>2022-01-01</td>\n",
              "      <td>10063090</td>\n",
              "      <td>Rice Excptg Parboiled (Excl Basmati Rice)</td>\n",
              "      <td>SREERAMA IMPEXLTD.</td>\n",
              "      <td>New Zealand</td>\n",
              "      <td>New Zealand</td>\n",
              "      <td>.</td>\n",
              "      <td>.</td>\n",
              "      <td>.</td>\n",
              "      <td>...</td>\n",
              "      <td>NaN</td>\n",
              "      <td>0.0</td>\n",
              "      <td>NaN</td>\n",
              "      <td>0</td>\n",
              "      <td>0</td>\n",
              "      <td>NaN</td>\n",
              "      <td>NaN</td>\n",
              "      <td>2022</td>\n",
              "      <td>1</td>\n",
              "      <td>1</td>\n",
              "    </tr>\n",
              "    <tr>\n",
              "      <th>8692</th>\n",
              "      <td>8693</td>\n",
              "      <td>2022-01-01</td>\n",
              "      <td>10063090</td>\n",
              "      <td>Rice Excptg Parboiled (Excl Basmati Rice)</td>\n",
              "      <td>SREERAMA IMPEXLTD.</td>\n",
              "      <td>New Zealand</td>\n",
              "      <td>New Zealand</td>\n",
              "      <td>.</td>\n",
              "      <td>.</td>\n",
              "      <td>.</td>\n",
              "      <td>...</td>\n",
              "      <td>NaN</td>\n",
              "      <td>0.0</td>\n",
              "      <td>NaN</td>\n",
              "      <td>0</td>\n",
              "      <td>0</td>\n",
              "      <td>NaN</td>\n",
              "      <td>NaN</td>\n",
              "      <td>2022</td>\n",
              "      <td>1</td>\n",
              "      <td>1</td>\n",
              "    </tr>\n",
              "    <tr>\n",
              "      <th>8693</th>\n",
              "      <td>8694</td>\n",
              "      <td>2022-01-01</td>\n",
              "      <td>10063010</td>\n",
              "      <td>Rice, parboiled</td>\n",
              "      <td>HASSON FOOD COMPANY PTE.LTD.</td>\n",
              "      <td>Singapore</td>\n",
              "      <td>Singapore</td>\n",
              "      <td>.</td>\n",
              "      <td>.</td>\n",
              "      <td>.</td>\n",
              "      <td>...</td>\n",
              "      <td>NaN</td>\n",
              "      <td>0.0</td>\n",
              "      <td>NaN</td>\n",
              "      <td>0</td>\n",
              "      <td>0</td>\n",
              "      <td>NaN</td>\n",
              "      <td>NaN</td>\n",
              "      <td>2022</td>\n",
              "      <td>1</td>\n",
              "      <td>1</td>\n",
              "    </tr>\n",
              "    <tr>\n",
              "      <th>8694</th>\n",
              "      <td>8695</td>\n",
              "      <td>2022-01-01</td>\n",
              "      <td>10063010</td>\n",
              "      <td>Rice, parboiled</td>\n",
              "      <td>SRI AMBIKAS PTE.LTD.</td>\n",
              "      <td>Singapore</td>\n",
              "      <td>Singapore</td>\n",
              "      <td>.</td>\n",
              "      <td>.</td>\n",
              "      <td>.</td>\n",
              "      <td>...</td>\n",
              "      <td>NaN</td>\n",
              "      <td>0.0</td>\n",
              "      <td>NaN</td>\n",
              "      <td>0</td>\n",
              "      <td>0</td>\n",
              "      <td>NaN</td>\n",
              "      <td>NaN</td>\n",
              "      <td>2022</td>\n",
              "      <td>1</td>\n",
              "      <td>1</td>\n",
              "    </tr>\n",
              "  </tbody>\n",
              "</table>\n",
              "<p>19646 rows × 43 columns</p>\n",
              "</div>\n",
              "    <div class=\"colab-df-buttons\">\n",
              "\n",
              "  <div class=\"colab-df-container\">\n",
              "    <button class=\"colab-df-convert\" onclick=\"convertToInteractive('df-c5adb2c3-9aca-4c6a-84a8-a41a98bcd8f2')\"\n",
              "            title=\"Convert this dataframe to an interactive table.\"\n",
              "            style=\"display:none;\">\n",
              "\n",
              "  <svg xmlns=\"http://www.w3.org/2000/svg\" height=\"24px\" viewBox=\"0 -960 960 960\">\n",
              "    <path d=\"M120-120v-720h720v720H120Zm60-500h600v-160H180v160Zm220 220h160v-160H400v160Zm0 220h160v-160H400v160ZM180-400h160v-160H180v160Zm440 0h160v-160H620v160ZM180-180h160v-160H180v160Zm440 0h160v-160H620v160Z\"/>\n",
              "  </svg>\n",
              "    </button>\n",
              "\n",
              "  <style>\n",
              "    .colab-df-container {\n",
              "      display:flex;\n",
              "      gap: 12px;\n",
              "    }\n",
              "\n",
              "    .colab-df-convert {\n",
              "      background-color: #E8F0FE;\n",
              "      border: none;\n",
              "      border-radius: 50%;\n",
              "      cursor: pointer;\n",
              "      display: none;\n",
              "      fill: #1967D2;\n",
              "      height: 32px;\n",
              "      padding: 0 0 0 0;\n",
              "      width: 32px;\n",
              "    }\n",
              "\n",
              "    .colab-df-convert:hover {\n",
              "      background-color: #E2EBFA;\n",
              "      box-shadow: 0px 1px 2px rgba(60, 64, 67, 0.3), 0px 1px 3px 1px rgba(60, 64, 67, 0.15);\n",
              "      fill: #174EA6;\n",
              "    }\n",
              "\n",
              "    .colab-df-buttons div {\n",
              "      margin-bottom: 4px;\n",
              "    }\n",
              "\n",
              "    [theme=dark] .colab-df-convert {\n",
              "      background-color: #3B4455;\n",
              "      fill: #D2E3FC;\n",
              "    }\n",
              "\n",
              "    [theme=dark] .colab-df-convert:hover {\n",
              "      background-color: #434B5C;\n",
              "      box-shadow: 0px 1px 3px 1px rgba(0, 0, 0, 0.15);\n",
              "      filter: drop-shadow(0px 1px 2px rgba(0, 0, 0, 0.3));\n",
              "      fill: #FFFFFF;\n",
              "    }\n",
              "  </style>\n",
              "\n",
              "    <script>\n",
              "      const buttonEl =\n",
              "        document.querySelector('#df-c5adb2c3-9aca-4c6a-84a8-a41a98bcd8f2 button.colab-df-convert');\n",
              "      buttonEl.style.display =\n",
              "        google.colab.kernel.accessAllowed ? 'block' : 'none';\n",
              "\n",
              "      async function convertToInteractive(key) {\n",
              "        const element = document.querySelector('#df-c5adb2c3-9aca-4c6a-84a8-a41a98bcd8f2');\n",
              "        const dataTable =\n",
              "          await google.colab.kernel.invokeFunction('convertToInteractive',\n",
              "                                                    [key], {});\n",
              "        if (!dataTable) return;\n",
              "\n",
              "        const docLinkHtml = 'Like what you see? Visit the ' +\n",
              "          '<a target=\"_blank\" href=https://colab.research.google.com/notebooks/data_table.ipynb>data table notebook</a>'\n",
              "          + ' to learn more about interactive tables.';\n",
              "        element.innerHTML = '';\n",
              "        dataTable['output_type'] = 'display_data';\n",
              "        await google.colab.output.renderOutput(dataTable, element);\n",
              "        const docLink = document.createElement('div');\n",
              "        docLink.innerHTML = docLinkHtml;\n",
              "        element.appendChild(docLink);\n",
              "      }\n",
              "    </script>\n",
              "  </div>\n",
              "\n",
              "\n",
              "<div id=\"df-f51c1dbd-c3c2-4636-bc3f-3e2c2646b7ed\">\n",
              "  <button class=\"colab-df-quickchart\" onclick=\"quickchart('df-f51c1dbd-c3c2-4636-bc3f-3e2c2646b7ed')\"\n",
              "            title=\"Suggest charts\"\n",
              "            style=\"display:none;\">\n",
              "\n",
              "<svg xmlns=\"http://www.w3.org/2000/svg\" height=\"24px\"viewBox=\"0 0 24 24\"\n",
              "     width=\"24px\">\n",
              "    <g>\n",
              "        <path d=\"M19 3H5c-1.1 0-2 .9-2 2v14c0 1.1.9 2 2 2h14c1.1 0 2-.9 2-2V5c0-1.1-.9-2-2-2zM9 17H7v-7h2v7zm4 0h-2V7h2v10zm4 0h-2v-4h2v4z\"/>\n",
              "    </g>\n",
              "</svg>\n",
              "  </button>\n",
              "\n",
              "<style>\n",
              "  .colab-df-quickchart {\n",
              "      --bg-color: #E8F0FE;\n",
              "      --fill-color: #1967D2;\n",
              "      --hover-bg-color: #E2EBFA;\n",
              "      --hover-fill-color: #174EA6;\n",
              "      --disabled-fill-color: #AAA;\n",
              "      --disabled-bg-color: #DDD;\n",
              "  }\n",
              "\n",
              "  [theme=dark] .colab-df-quickchart {\n",
              "      --bg-color: #3B4455;\n",
              "      --fill-color: #D2E3FC;\n",
              "      --hover-bg-color: #434B5C;\n",
              "      --hover-fill-color: #FFFFFF;\n",
              "      --disabled-bg-color: #3B4455;\n",
              "      --disabled-fill-color: #666;\n",
              "  }\n",
              "\n",
              "  .colab-df-quickchart {\n",
              "    background-color: var(--bg-color);\n",
              "    border: none;\n",
              "    border-radius: 50%;\n",
              "    cursor: pointer;\n",
              "    display: none;\n",
              "    fill: var(--fill-color);\n",
              "    height: 32px;\n",
              "    padding: 0;\n",
              "    width: 32px;\n",
              "  }\n",
              "\n",
              "  .colab-df-quickchart:hover {\n",
              "    background-color: var(--hover-bg-color);\n",
              "    box-shadow: 0 1px 2px rgba(60, 64, 67, 0.3), 0 1px 3px 1px rgba(60, 64, 67, 0.15);\n",
              "    fill: var(--button-hover-fill-color);\n",
              "  }\n",
              "\n",
              "  .colab-df-quickchart-complete:disabled,\n",
              "  .colab-df-quickchart-complete:disabled:hover {\n",
              "    background-color: var(--disabled-bg-color);\n",
              "    fill: var(--disabled-fill-color);\n",
              "    box-shadow: none;\n",
              "  }\n",
              "\n",
              "  .colab-df-spinner {\n",
              "    border: 2px solid var(--fill-color);\n",
              "    border-color: transparent;\n",
              "    border-bottom-color: var(--fill-color);\n",
              "    animation:\n",
              "      spin 1s steps(1) infinite;\n",
              "  }\n",
              "\n",
              "  @keyframes spin {\n",
              "    0% {\n",
              "      border-color: transparent;\n",
              "      border-bottom-color: var(--fill-color);\n",
              "      border-left-color: var(--fill-color);\n",
              "    }\n",
              "    20% {\n",
              "      border-color: transparent;\n",
              "      border-left-color: var(--fill-color);\n",
              "      border-top-color: var(--fill-color);\n",
              "    }\n",
              "    30% {\n",
              "      border-color: transparent;\n",
              "      border-left-color: var(--fill-color);\n",
              "      border-top-color: var(--fill-color);\n",
              "      border-right-color: var(--fill-color);\n",
              "    }\n",
              "    40% {\n",
              "      border-color: transparent;\n",
              "      border-right-color: var(--fill-color);\n",
              "      border-top-color: var(--fill-color);\n",
              "    }\n",
              "    60% {\n",
              "      border-color: transparent;\n",
              "      border-right-color: var(--fill-color);\n",
              "    }\n",
              "    80% {\n",
              "      border-color: transparent;\n",
              "      border-right-color: var(--fill-color);\n",
              "      border-bottom-color: var(--fill-color);\n",
              "    }\n",
              "    90% {\n",
              "      border-color: transparent;\n",
              "      border-bottom-color: var(--fill-color);\n",
              "    }\n",
              "  }\n",
              "</style>\n",
              "\n",
              "  <script>\n",
              "    async function quickchart(key) {\n",
              "      const quickchartButtonEl =\n",
              "        document.querySelector('#' + key + ' button');\n",
              "      quickchartButtonEl.disabled = true;  // To prevent multiple clicks.\n",
              "      quickchartButtonEl.classList.add('colab-df-spinner');\n",
              "      try {\n",
              "        const charts = await google.colab.kernel.invokeFunction(\n",
              "            'suggestCharts', [key], {});\n",
              "      } catch (error) {\n",
              "        console.error('Error during call to suggestCharts:', error);\n",
              "      }\n",
              "      quickchartButtonEl.classList.remove('colab-df-spinner');\n",
              "      quickchartButtonEl.classList.add('colab-df-quickchart-complete');\n",
              "    }\n",
              "    (() => {\n",
              "      let quickchartButtonEl =\n",
              "        document.querySelector('#df-f51c1dbd-c3c2-4636-bc3f-3e2c2646b7ed button');\n",
              "      quickchartButtonEl.style.display =\n",
              "        google.colab.kernel.accessAllowed ? 'block' : 'none';\n",
              "    })();\n",
              "  </script>\n",
              "</div>\n",
              "    </div>\n",
              "  </div>\n"
            ]
          },
          "metadata": {},
          "execution_count": 24
        }
      ]
    },
    {
      "cell_type": "code",
      "source": [
        "df.drop(['TEL', 'FAX','E-MAIL', 'WEB'], axis = 1 , inplace = True)"
      ],
      "metadata": {
        "id": "X4cG_JG2sKrt"
      },
      "execution_count": 25,
      "outputs": []
    },
    {
      "cell_type": "code",
      "source": [
        "df[\"EXPORTER NAME\"].value_counts(),df[\"EXPORTER NAME\"].isnull().sum()"
      ],
      "metadata": {
        "colab": {
          "base_uri": "https://localhost:8080/"
        },
        "id": "0StJ77BesRFB",
        "outputId": "5c4ed4f1-4ae7-4e3a-ed16-08dc4f9f42c2"
      },
      "execution_count": 26,
      "outputs": [
        {
          "output_type": "execute_result",
          "data": {
            "text/plain": [
              "(SUPPLE TEK INDUSTRIES PRIVATE LIMITED    940\n",
              " MANJILAS FOOD TECH PRIVATE LIMITED       514\n",
              " KOTTACKAL AGRO FOODS                     294\n",
              " K K R AGRO MILLS PRIVATE LIMITED         291\n",
              " AMAR SINGH CHAWALWALA                    267\n",
              "                                         ... \n",
              " EXIMCAM CANADA                             1\n",
              " SAT SWISS  AGRI TRADING SA                 1\n",
              " SDVOHMALL COM LL                           1\n",
              " SWANI SPICE MILLS PVT LTD                  1\n",
              " SRI VARA SIDDI AGRO FOODS                  1\n",
              " Name: EXPORTER NAME, Length: 2543, dtype: int64,\n",
              " 145)"
            ]
          },
          "metadata": {},
          "execution_count": 26
        }
      ]
    },
    {
      "cell_type": "code",
      "source": [
        "df.dropna(subset = \"EXPORTER NAME\",inplace = True)"
      ],
      "metadata": {
        "id": "3u7Hp0xosVuU"
      },
      "execution_count": 27,
      "outputs": []
    },
    {
      "cell_type": "code",
      "source": [
        "df[\"EXPORTER NAME\"].isnull().sum()"
      ],
      "metadata": {
        "colab": {
          "base_uri": "https://localhost:8080/"
        },
        "id": "s-_Kca_1sZGt",
        "outputId": "b8f7ce88-4d03-4506-bbc0-d55291ccb5bf"
      },
      "execution_count": 28,
      "outputs": [
        {
          "output_type": "execute_result",
          "data": {
            "text/plain": [
              "0"
            ]
          },
          "metadata": {},
          "execution_count": 28
        }
      ]
    },
    {
      "cell_type": "code",
      "source": [
        "df[\"EXPORTER ADDRESS\"].value_counts(),df[\"EXPORTER ADDRESS\"].isnull().sum()"
      ],
      "metadata": {
        "colab": {
          "base_uri": "https://localhost:8080/"
        },
        "id": "k42ywJmfsmKt",
        "outputId": "4beaf895-af5d-40e8-b388-8c2c6b1f8b57"
      },
      "execution_count": 29,
      "outputs": [
        {
          "output_type": "execute_result",
          "data": {
            "text/plain": [
              "(, , , ,                                                                                                                           5319\n",
              " VILLAGE CHABBA,TARN TARAN ROAD,   ,AMRITSAR PUNJAB ,0 ,2100030,9501051191 ,suppletekindustries@gmail.com                           940\n",
              "  , , , ,                                                                                                                           570\n",
              " TC-16/1382,  SASTHRI ROAD, NELLIKUNNU, ,THRISSUR,KERALA ,PIN-680005 ,0487 2420895 2440113 ,info@manjilas.com                       514\n",
              " 40/2, MANNARPALAYAM ROAD,ALLIKUTTAI POST,   ,SALEM/TAMILNADU. ,636003 ,240703/241040/FAX NO.268327 ,kadhir_rice@rediffmail.com     304\n",
              "                                                                                                                                   ... \n",
              " KOMARIPALEMBIKKAVOLU MANDALAM   ,E.G.DIST.  A.P. ,533346 , ,                                                                         1\n",
              " VILL. BEDLA, TEH. GIRWA,   ,UDAIPUR.  ,RAJASTHAN ,PIN-313001 ,440386 ,mukeshh@hotmail.com                                            1\n",
              " 15A,SHOP NO.8,GEETA BHAWAN,BASEMENT NWA,WEST PUNJABI BAGH                                                                            1\n",
              " 154 SINDHI COLONY BHASKAR MARG BANI PARK JAIPUR 302016 RAJASTHAN INDE                                                                1\n",
              " 75C, PARK STREET ROOM NO. 2/2,  2ND FLOOR, ,KOLKATA,W.B. ,PIN-700016 ,033-22494313,0341-2441222 ,babylon2013@rediffmail.com          1\n",
              " Name: EXPORTER ADDRESS, Length: 1537, dtype: int64,\n",
              " 943)"
            ]
          },
          "metadata": {},
          "execution_count": 29
        }
      ]
    },
    {
      "cell_type": "code",
      "source": [
        "df.drop(['EXPORTER ADDRESS'], axis = 1, inplace = True)"
      ],
      "metadata": {
        "id": "Zw3nXSvWsrCg"
      },
      "execution_count": 30,
      "outputs": []
    },
    {
      "cell_type": "code",
      "source": [
        "df[\"COUNTRY OF ORIGIN\"].value_counts(),df[\"COUNTRY OF ORIGIN\"].isnull().sum()"
      ],
      "metadata": {
        "colab": {
          "base_uri": "https://localhost:8080/"
        },
        "id": "D11imdbEtBgO",
        "outputId": "4c708809-d43b-4c96-bc8c-bbcdc7ef6116"
      },
      "execution_count": 31,
      "outputs": [
        {
          "output_type": "execute_result",
          "data": {
            "text/plain": [
              "(India    27872\n",
              " Name: COUNTRY OF ORIGIN, dtype: int64,\n",
              " 0)"
            ]
          },
          "metadata": {},
          "execution_count": 31
        }
      ]
    },
    {
      "cell_type": "code",
      "source": [
        "df[\"IMPORT VALUE FOB\"].value_counts(),df[\"IMPORT VALUE FOB\"].isnull().sum()\n",
        ""
      ],
      "metadata": {
        "colab": {
          "base_uri": "https://localhost:8080/"
        },
        "id": "QGboJZcMtFJB",
        "outputId": "c92b6903-e62c-4f48-d8ea-55271a556eab"
      },
      "execution_count": 32,
      "outputs": [
        {
          "output_type": "execute_result",
          "data": {
            "text/plain": [
              "(0.00          868\n",
              " 1020000.00     63\n",
              " 13230.00       35\n",
              " 13773.40       32\n",
              " 1028500.00     32\n",
              "              ... \n",
              " 77377.47        1\n",
              " 86470.50        1\n",
              " 197626.28       1\n",
              " 15798.00        1\n",
              " 5346.00         1\n",
              " Name: IMPORT VALUE FOB, Length: 17004, dtype: int64,\n",
              " 0)"
            ]
          },
          "metadata": {},
          "execution_count": 32
        }
      ]
    },
    {
      "cell_type": "code",
      "source": [
        "df[\"IMPORT VALUE CIF\"].value_counts(),df[\"IMPORT VALUE CIF\"].isnull().sum()"
      ],
      "metadata": {
        "colab": {
          "base_uri": "https://localhost:8080/"
        },
        "id": "0FSxUDGetI-h",
        "outputId": "7aa0228f-2fae-423b-d2f4-77ae304bbe80"
      },
      "execution_count": 33,
      "outputs": [
        {
          "output_type": "execute_result",
          "data": {
            "text/plain": [
              "(0.000000e+00    27294\n",
              " 7.357558e+07        4\n",
              " 8.007160e+03        4\n",
              " 9.409800e+03        4\n",
              " 4.387804e+07        3\n",
              "                 ...  \n",
              " 2.156780e+04        1\n",
              " 8.041622e+06        1\n",
              " 6.359175e+07        1\n",
              " 2.088023e+08        1\n",
              " 9.452743e+07        1\n",
              " Name: IMPORT VALUE CIF, Length: 492, dtype: int64,\n",
              " 0)"
            ]
          },
          "metadata": {},
          "execution_count": 33
        }
      ]
    },
    {
      "cell_type": "code",
      "source": [
        "df['TOTAL IMPORT'] = sum(df[\"IMPORT VALUE CIF\"],df[\"IMPORT VALUE FOB\"])"
      ],
      "metadata": {
        "id": "iDo-t-tMtP7H"
      },
      "execution_count": 34,
      "outputs": []
    },
    {
      "cell_type": "code",
      "source": [
        "df[\"CURRENCY\"].value_counts(),df[\"CURRENCY\"].isnull().sum()"
      ],
      "metadata": {
        "colab": {
          "base_uri": "https://localhost:8080/"
        },
        "id": "Z_ual9ZxtTv0",
        "outputId": "348d781c-9dc0-4cf4-a44a-da58b550b6ae"
      },
      "execution_count": 35,
      "outputs": [
        {
          "output_type": "execute_result",
          "data": {
            "text/plain": [
              "(USD    22863\n",
              " INR     3146\n",
              " EUR      402\n",
              " CAD      170\n",
              " GBP      140\n",
              " SGD      133\n",
              " XOF      132\n",
              " AUD      129\n",
              " UGX      112\n",
              " MZN       98\n",
              " KES       92\n",
              " AED       79\n",
              " GHS       52\n",
              " CHF       13\n",
              " GHC        8\n",
              " KZT        7\n",
              " QAR        6\n",
              " FJD        5\n",
              " ZAR        3\n",
              " JPY        2\n",
              " UAH        2\n",
              " NGN        1\n",
              " RUB        1\n",
              " Name: CURRENCY, dtype: int64,\n",
              " 276)"
            ]
          },
          "metadata": {},
          "execution_count": 35
        }
      ]
    },
    {
      "cell_type": "code",
      "source": [
        "df.dropna(subset =[\"CURRENCY\"],inplace = True)"
      ],
      "metadata": {
        "id": "qwonNIx4tXe3"
      },
      "execution_count": 36,
      "outputs": []
    },
    {
      "cell_type": "code",
      "source": [
        "df[\"NET WEIGHT\"].value_counts(),df[\"NET WEIGHT\"].isnull().sum()"
      ],
      "metadata": {
        "colab": {
          "base_uri": "https://localhost:8080/"
        },
        "id": "ygVfOYpltbL8",
        "outputId": "2e20998e-4eb4-4f0b-95a5-ad8608658778"
      },
      "execution_count": 37,
      "outputs": [
        {
          "output_type": "execute_result",
          "data": {
            "text/plain": [
              "(0.0          26350\n",
              " 260000.0        85\n",
              " 100000.0        64\n",
              " 250000.0        50\n",
              " 130000.0        29\n",
              "              ...  \n",
              " 99000.0          1\n",
              " 170000.0         1\n",
              " 89000.0          1\n",
              " 311990.0         1\n",
              " 3009600.0        1\n",
              " Name: NET WEIGHT, Length: 515, dtype: int64,\n",
              " 0)"
            ]
          },
          "metadata": {},
          "execution_count": 37
        }
      ]
    },
    {
      "cell_type": "code",
      "source": [
        "df[\"NET WEIGHT UNIT\"].value_counts(),df[\"NET WEIGHT UNIT\"].isnull().sum()"
      ],
      "metadata": {
        "colab": {
          "base_uri": "https://localhost:8080/"
        },
        "id": "-S1961lltklK",
        "outputId": "b1e5da2f-6f41-4c32-bb14-35795e84e58a"
      },
      "execution_count": 38,
      "outputs": [
        {
          "output_type": "execute_result",
          "data": {
            "text/plain": [
              "(Kg.          1126\n",
              " KG             98\n",
              " KGM            20\n",
              " Kilograms       2\n",
              " Name: NET WEIGHT UNIT, dtype: int64,\n",
              " 26350)"
            ]
          },
          "metadata": {},
          "execution_count": 38
        }
      ]
    },
    {
      "cell_type": "code",
      "source": [
        "df['NET WEIGHT UNIT'].replace(['Kg.','KGM', 'KG','Kilograms'],\"KG\",inplace=True)"
      ],
      "metadata": {
        "id": "XCzTPbTCtoJU"
      },
      "execution_count": 39,
      "outputs": []
    },
    {
      "cell_type": "code",
      "source": [
        "df[\"NET WEIGHT UNIT\"].value_counts(),df[\"NET WEIGHT UNIT\"].isnull().sum()"
      ],
      "metadata": {
        "colab": {
          "base_uri": "https://localhost:8080/"
        },
        "id": "F7JJeo28trqA",
        "outputId": "a8349c24-093b-4546-ad2b-5493e99452ef"
      },
      "execution_count": 40,
      "outputs": [
        {
          "output_type": "execute_result",
          "data": {
            "text/plain": [
              "(KG    1246\n",
              " Name: NET WEIGHT UNIT, dtype: int64,\n",
              " 26350)"
            ]
          },
          "metadata": {},
          "execution_count": 40
        }
      ]
    },
    {
      "cell_type": "code",
      "source": [
        "df[\"NET WEIGHT UNIT\"].fillna(\"KG\",inplace = True)"
      ],
      "metadata": {
        "id": "ddsrdDIitvpa"
      },
      "execution_count": 41,
      "outputs": []
    },
    {
      "cell_type": "code",
      "source": [
        "df[\"GROSS WEIGHT\"].value_counts(),df[\"GROSS WEIGHT\"].isnull().sum()"
      ],
      "metadata": {
        "colab": {
          "base_uri": "https://localhost:8080/"
        },
        "id": "V_voBizctzJQ",
        "outputId": "2f030fbd-8795-4312-897d-5cec8a99b85b"
      },
      "execution_count": 42,
      "outputs": [
        {
          "output_type": "execute_result",
          "data": {
            "text/plain": [
              "(0.0          26352\n",
              " 250740.0        26\n",
              " 100400.0        20\n",
              " 260728.0        19\n",
              " 260624.0        16\n",
              "              ...  \n",
              " 274176.0         1\n",
              " 151302.0         1\n",
              " 23119.0          1\n",
              " 7800000.0        1\n",
              " 200595.0         1\n",
              " Name: GROSS WEIGHT, Length: 756, dtype: int64,\n",
              " 0)"
            ]
          },
          "metadata": {},
          "execution_count": 42
        }
      ]
    },
    {
      "cell_type": "code",
      "source": [
        "df[\"GROSS WEIGHT UNIT\"].value_counts()"
      ],
      "metadata": {
        "colab": {
          "base_uri": "https://localhost:8080/"
        },
        "id": "X6QuqlgIt3YD",
        "outputId": "e745547e-bbde-42cf-e264-848e330c621b"
      },
      "execution_count": 43,
      "outputs": [
        {
          "output_type": "execute_result",
          "data": {
            "text/plain": [
              "Kg.    924\n",
              "KGM    121\n",
              "KG      98\n",
              "TNE      3\n",
              "Name: GROSS WEIGHT UNIT, dtype: int64"
            ]
          },
          "metadata": {},
          "execution_count": 43
        }
      ]
    },
    {
      "cell_type": "code",
      "source": [
        "df['GROSS WEIGHT UNIT'].replace(['Kg.','KGM', 'KG'],\"KG\",inplace=True)"
      ],
      "metadata": {
        "id": "W8q_tCSouCsA"
      },
      "execution_count": 44,
      "outputs": []
    },
    {
      "cell_type": "code",
      "source": [
        "df = df[df[\"GROSS WEIGHT UNIT\"]!= 'TNE']"
      ],
      "metadata": {
        "id": "GVEgb8PquIfO"
      },
      "execution_count": 45,
      "outputs": []
    },
    {
      "cell_type": "code",
      "source": [
        "df[\"GROSS WEIGHT UNIT\"].fillna(\"KG\",inplace = True)"
      ],
      "metadata": {
        "id": "_noVz8atuMGP"
      },
      "execution_count": 46,
      "outputs": []
    },
    {
      "cell_type": "code",
      "source": [
        "df[\"QUANTITY\"].value_counts(),df[\"QUANTITY\"].isnull().sum()"
      ],
      "metadata": {
        "colab": {
          "base_uri": "https://localhost:8080/"
        },
        "id": "XtnJ6NxZuO6h",
        "outputId": "a80f3f44-7fea-4f77-f6d5-c88b9c0eac51"
      },
      "execution_count": 47,
      "outputs": [
        {
          "output_type": "execute_result",
          "data": {
            "text/plain": [
              "(0.00         944\n",
              " 50.00        618\n",
              " 25.00        542\n",
              " 100.00       491\n",
              " 340.00       471\n",
              "             ... \n",
              " 30050.00       1\n",
              " 675.99         1\n",
              " 24.53          1\n",
              " 259125.00      1\n",
              " 1540.00        1\n",
              " Name: QUANTITY, Length: 3603, dtype: int64,\n",
              " 0)"
            ]
          },
          "metadata": {},
          "execution_count": 47
        }
      ]
    },
    {
      "cell_type": "code",
      "source": [
        "df[\"QUANTITY UNIT\"].value_counts(),df[\"QUANTITY UNIT\"].isnull().sum()"
      ],
      "metadata": {
        "colab": {
          "base_uri": "https://localhost:8080/"
        },
        "id": "KBUJRCb8uWpN",
        "outputId": "e8fe5790-5561-483d-e583-d316f0344422"
      },
      "execution_count": 48,
      "outputs": [
        {
          "output_type": "execute_result",
          "data": {
            "text/plain": [
              "(MTS         14007\n",
              " KGS          7601\n",
              " NOS          1841\n",
              " QTL          1245\n",
              " BAG           682\n",
              " CTN           494\n",
              " PCS           491\n",
              " PAC           130\n",
              " KGM           118\n",
              " Kilogram      113\n",
              " KG            100\n",
              " кг             97\n",
              " kg             92\n",
              " TNE            83\n",
              " BOX            32\n",
              " UNK            15\n",
              " TON            13\n",
              " КГ              8\n",
              " PIECE           7\n",
              " KILOGRAM        5\n",
              " LOT             4\n",
              " Kgm             2\n",
              " ШТ              2\n",
              " LBS             1\n",
              " TONS            1\n",
              " TONELADA        1\n",
              " KGA             1\n",
              " Name: QUANTITY UNIT, dtype: int64,\n",
              " 407)"
            ]
          },
          "metadata": {},
          "execution_count": 48
        }
      ]
    },
    {
      "cell_type": "code",
      "source": [
        "df.dropna(subset =[\"QUANTITY UNIT\"],inplace = True)"
      ],
      "metadata": {
        "id": "X_PikjD2uivZ"
      },
      "execution_count": 49,
      "outputs": []
    },
    {
      "cell_type": "code",
      "source": [
        "df['QUANTITY UNIT'].replace(['кг','КГ','KG','KGM','Kilogram','KILOGRAMOS NETOS','KILOS','kg','KILOGRAM','ШТ','Kgm', 'Kg'],'KGS', inplace=True)\n",
        "df['QUANTITY UNIT'].replace(['BG','BAG'],'BAGS', inplace=True)\n",
        "df['QUANTITY UNIT'].replace(['MTS','TNE','TONELADA','TON','Tonelada'],'TONS', inplace=True)\n",
        "df['QUANTITY UNIT'].replace([ 'PKG','PAC','PK','PIECE','PCS',],'PACKAGES', inplace=True)"
      ],
      "metadata": {
        "id": "Ot4d-GBEunEP"
      },
      "execution_count": 50,
      "outputs": []
    },
    {
      "cell_type": "code",
      "source": [
        "df.columns"
      ],
      "metadata": {
        "colab": {
          "base_uri": "https://localhost:8080/"
        },
        "id": "-TDtwGYAu3VQ",
        "outputId": "47c0433d-75d3-4864-cbb6-51e81fec2b89"
      },
      "execution_count": 51,
      "outputs": [
        {
          "output_type": "execute_result",
          "data": {
            "text/plain": [
              "Index(['NO', 'ARRIVAL DATE', 'HS CODE', 'HS CODE DESCRIPTION', 'IMPORTER NAME',\n",
              "       'IMPORTER COUNTRY', 'CITY STATE', 'EXPORTER NAME', 'COUNTRY OF ORIGIN',\n",
              "       'IMPORT VALUE FOB', 'IMPORT VALUE CIF', 'CURRENCY', 'NET WEIGHT',\n",
              "       'NET WEIGHT UNIT', 'GROSS WEIGHT', 'GROSS WEIGHT UNIT', 'QUANTITY',\n",
              "       'QUANTITY UNIT', 'PRODUCT DETAILS', 'NUMBER OF PACKAGES',\n",
              "       'PACKAGES UNIT', 'INCOTERMS', 'PLACE OF DELIVERY', 'BRAND NAME',\n",
              "       'MANUFACTORING COMPANY', 'PORT OF ARRIVAL', 'PORT OF DEPARTURE',\n",
              "       'NOTIFY PARTY', 'NOTIFY ADDRESS', 'VOLUME', 'SHIPPER COUNTRY',\n",
              "       'CONTAINER COUNT', 'TOTAL TEUS', 'Final Qty', 'PORT OF DEPARTURE.1',\n",
              "       'Year', 'Month', 'Day', 'TOTAL IMPORT'],\n",
              "      dtype='object')"
            ]
          },
          "metadata": {},
          "execution_count": 51
        }
      ]
    },
    {
      "cell_type": "code",
      "source": [
        "df[\"PRODUCT DETAILS\"].value_counts(),df[\"PRODUCT DETAILS\"].isnull().sum()"
      ],
      "metadata": {
        "colab": {
          "base_uri": "https://localhost:8080/"
        },
        "id": "uH1JGfYOu7Gd",
        "outputId": "cf3a72f2-d738-46f7-b5c2-fc5a284ce3a4"
      },
      "execution_count": 52,
      "outputs": [
        {
          "output_type": "execute_result",
          "data": {
            "text/plain": [
              "(NON BASMATI RICE                                                                                        1551\n",
              " RICE                                                                                                     161\n",
              " N.B PADDY                                                                                                157\n",
              " BASMATI RICE                                                                                             130\n",
              " NON BASMOTI BOILED RICE                                                                                   93\n",
              "                                                                                                         ... \n",
              " INDIAN ORIGIN LONG GRAIN 1121 GOLDEN SEL LA BASAMTI RICE PACKING : 4X10 KGS NON W OVEN BAGS (O/D AS        1\n",
              " INDIAN ORIGIN LONG GRAIN 1121 GOLDEN SEL LA BASAMTI RICE PACKING : 8X5 KGS NON WO VEN BAGS (O/D AS P       1\n",
              " SUPPLIERS:M S CORPORATION GST.NO.24ABRPA 5884C1ZO INV.NO.MSC/GST/1787 DT.19.11.20 19 SR.NO.1               1\n",
              " Pusa Raw Milled Lot No M125 Best Before                                                                    1\n",
              " VATAN IDLI RICE                                                                                            1\n",
              " Name: PRODUCT DETAILS, Length: 15355, dtype: int64,\n",
              " 187)"
            ]
          },
          "metadata": {},
          "execution_count": 52
        }
      ]
    },
    {
      "cell_type": "code",
      "source": [
        "df.dropna(subset =[\"PRODUCT DETAILS\"],inplace = True)"
      ],
      "metadata": {
        "id": "QBLYwPfdvCiX"
      },
      "execution_count": 53,
      "outputs": []
    },
    {
      "cell_type": "code",
      "source": [
        "df[\"NUMBER OF PACKAGES\"].value_counts(),df[\"NUMBER OF PACKAGES\"].isnull().sum()"
      ],
      "metadata": {
        "colab": {
          "base_uri": "https://localhost:8080/"
        },
        "id": "i_mFYofmvGIV",
        "outputId": "0d49b01b-61b8-4a36-bd59-db3d86343438"
      },
      "execution_count": 54,
      "outputs": [
        {
          "output_type": "execute_result",
          "data": {
            "text/plain": [
              "(0.0         26839\n",
              " 5200.0         30\n",
              " 5400.0         16\n",
              " 2600.0         12\n",
              " 881.0          12\n",
              " 3240.0          7\n",
              " 5300.0          5\n",
              " 5390.0          5\n",
              " 564.0           5\n",
              " 10400.0         5\n",
              " 4240.0          4\n",
              " 5380.0          4\n",
              " 180.0           4\n",
              " 2650.0          3\n",
              " 3180.0          3\n",
              " 1040.0          2\n",
              " 3710.0          2\n",
              " 5370.0          2\n",
              " 5000.0          2\n",
              " 1.0             2\n",
              " 2080.0          2\n",
              " 2680.0          1\n",
              " 3640.0          1\n",
              " 520.0           1\n",
              " 5379.0          1\n",
              " 4680.0          1\n",
              " 5376.0          1\n",
              " 4160.0          1\n",
              " 8670.0          1\n",
              " 3234.0          1\n",
              " 6.0             1\n",
              " 975.0           1\n",
              " 530.0           1\n",
              " 630.0           1\n",
              " 312000.0        1\n",
              " 788000.0        1\n",
              " 120.0           1\n",
              " 6933.0          1\n",
              " 4200.0          1\n",
              " 6240.0          1\n",
              " 575.0           1\n",
              " 1000.0          1\n",
              " 140000.0        1\n",
              " 640000.0        1\n",
              " 125.0           1\n",
              " 300.0           1\n",
              " 50.0            1\n",
              " 150.0           1\n",
              " 332.0           1\n",
              " 325.0           1\n",
              " 620.0           1\n",
              " 814.0           1\n",
              " 160000.0        1\n",
              " 42.0            1\n",
              " Name: NUMBER OF PACKAGES, dtype: int64,\n",
              " 0)"
            ]
          },
          "metadata": {},
          "execution_count": 54
        }
      ]
    },
    {
      "cell_type": "code",
      "source": [
        "df[\"PACKAGES UNIT\"].value_counts(),df[\"PACKAGES UNIT\"].isnull().sum()"
      ],
      "metadata": {
        "colab": {
          "base_uri": "https://localhost:8080/"
        },
        "id": "3JtabnP2vKnC",
        "outputId": "2590fe30-3293-44d4-be50-8f9d252d4443"
      },
      "execution_count": 55,
      "outputs": [
        {
          "output_type": "execute_result",
          "data": {
            "text/plain": [
              "(BG         366\n",
              " PK          24\n",
              " BAG          8\n",
              " PACKAGE      6\n",
              " Colis        2\n",
              " CT           2\n",
              " Sac          2\n",
              " LT           1\n",
              " Carton       1\n",
              " Name: PACKAGES UNIT, dtype: int64,\n",
              " 26587)"
            ]
          },
          "metadata": {},
          "execution_count": 55
        }
      ]
    },
    {
      "cell_type": "code",
      "source": [
        "df['PACKAGES UNIT'].fillna(\"Undefined\",inplace=True)"
      ],
      "metadata": {
        "id": "D2AweVRrvxRP"
      },
      "execution_count": 56,
      "outputs": []
    },
    {
      "cell_type": "code",
      "source": [
        "df[\"PACKAGES UNIT\"].value_counts(),df[\"PACKAGES UNIT\"].isnull().sum()"
      ],
      "metadata": {
        "colab": {
          "base_uri": "https://localhost:8080/"
        },
        "id": "vHFiLjrnv00b",
        "outputId": "c472f346-30ba-4c75-f00a-f209b8faed99"
      },
      "execution_count": 57,
      "outputs": [
        {
          "output_type": "execute_result",
          "data": {
            "text/plain": [
              "(Undefined    26587\n",
              " BG             366\n",
              " PK              24\n",
              " BAG              8\n",
              " PACKAGE          6\n",
              " Colis            2\n",
              " CT               2\n",
              " Sac              2\n",
              " LT               1\n",
              " Carton           1\n",
              " Name: PACKAGES UNIT, dtype: int64,\n",
              " 0)"
            ]
          },
          "metadata": {},
          "execution_count": 57
        }
      ]
    },
    {
      "cell_type": "code",
      "source": [
        "df['PACKAGES UNIT'].replace(['BG','BAG','SAC'],'BAGS', inplace=True)\n",
        "df['PACKAGES UNIT'].replace(['PK','PACKAGE'],'PACKAGES', inplace=True)\n",
        "df['PACKAGES UNIT'].replace(['Colis','Carton' ,'CT'],'CARTONS', inplace=True)"
      ],
      "metadata": {
        "id": "Yjz8W-iDv58C"
      },
      "execution_count": 58,
      "outputs": []
    },
    {
      "cell_type": "code",
      "source": [
        "df = df[df['PACKAGES UNIT'] !='LT']"
      ],
      "metadata": {
        "id": "4_8DM_mmv9dj"
      },
      "execution_count": 59,
      "outputs": []
    },
    {
      "cell_type": "code",
      "source": [
        "df[\"INCOTERMS\"].value_counts(),df[\"INCOTERMS\"].isnull().sum()"
      ],
      "metadata": {
        "colab": {
          "base_uri": "https://localhost:8080/"
        },
        "id": "5oeKh1i5wBDJ",
        "outputId": "f2306dfc-8eb6-4b00-d37c-3d65c5fad830"
      },
      "execution_count": 60,
      "outputs": [
        {
          "output_type": "execute_result",
          "data": {
            "text/plain": [
              "(CIF             176\n",
              " FOB              41\n",
              " CFR              31\n",
              " C&F              19\n",
              " CPT               4\n",
              " CIP               4\n",
              " GIRO DIRECTO      1\n",
              " Name: INCOTERMS, dtype: int64,\n",
              " 26722)"
            ]
          },
          "metadata": {},
          "execution_count": 60
        }
      ]
    },
    {
      "cell_type": "code",
      "source": [
        "df.drop([\"INCOTERMS\"],axis = 1,inplace = True)"
      ],
      "metadata": {
        "id": "AIo7glG8wG8Q"
      },
      "execution_count": 61,
      "outputs": []
    },
    {
      "cell_type": "code",
      "source": [
        "df[\"PLACE OF DELIVERY\"].value_counts(),df[\"PLACE OF DELIVERY\"].isnull().sum()"
      ],
      "metadata": {
        "colab": {
          "base_uri": "https://localhost:8080/"
        },
        "id": "oFSMKK-zwNZH",
        "outputId": "5f1b6a54-3c93-43c2-d992-a847d7167c7a"
      },
      "execution_count": 62,
      "outputs": [
        {
          "output_type": "execute_result",
          "data": {
            "text/plain": [
              "(САНКТ-ПЕТЕРБУРГ     17\n",
              " НОВОРОССИЙСК        14\n",
              " MUNDRA              12\n",
              " NHAVA SHEVA          9\n",
              " SAINT-PETERSBURG     5\n",
              " КАЛИНИНГРАД          3\n",
              " МУНДРА               3\n",
              " КОТКА                3\n",
              " MUNDRA, INDIA        2\n",
              " ВЛАДИВОСТОК          2\n",
              " ВОСТОЧНЫЙ            2\n",
              " NHABA SHEVA          1\n",
              " NOVOROSSIYSK         1\n",
              " Name: PLACE OF DELIVERY, dtype: int64,\n",
              " 26924)"
            ]
          },
          "metadata": {},
          "execution_count": 62
        }
      ]
    },
    {
      "cell_type": "code",
      "source": [
        "df[\"BRAND NAME\"].value_counts(),df[\"BRAND NAME\"].isnull().sum()\n",
        ""
      ],
      "metadata": {
        "colab": {
          "base_uri": "https://localhost:8080/"
        },
        "id": "JyqxJ06gwStM",
        "outputId": "5ac0a861-7cf9-4ae0-9010-4e9d7221fd10"
      },
      "execution_count": 63,
      "outputs": [
        {
          "output_type": "execute_result",
          "data": {
            "text/plain": [
              "(ОТСУТСТВУЕТ                            41\n",
              " нема даних                             21\n",
              " БЕЗ ТОВАРНОГО ЗНАКА                    12\n",
              " НЕМА ДАНИХ                             10\n",
              " ROZAN                                   7\n",
              " відсутня                                7\n",
              " SAFE AGRITRADE PRIVATE LIMITED          6\n",
              " КРУП'ЯНИЙ ДВІР                          6\n",
              " АСАН                                    6\n",
              " ВІДСУТНЯ                                5\n",
              " НЕ ОБОЗНАЧЕН                            5\n",
              " інша                                    4\n",
              " немає данних                            4\n",
              " Nanji's                                 3\n",
              " AL-GYAS EXPORTS                         2\n",
              " ARIHANT AGRI FOODS PVT. LTD.            2\n",
              " NANO SRI                                2\n",
              " НЕ ОБОЗНАЧЕНО                           2\n",
              " JUPITER EXPORTS                         2\n",
              " ТМ Daawat                               2\n",
              " BANNO                                   2\n",
              " НЕМАЄ ДАНИХ                             2\n",
              " MAHARANI\"\" та \"\"RAYDUGA                 2\n",
              " DUNAR                                   2\n",
              " Немає даних                             1\n",
              " TAJ MAHAL                               1\n",
              " FANAA, SHAHI NAZRANA                    1\n",
              " DILNAAZ, нема даних                     1\n",
              " SANGAM HERBALS                          1\n",
              " ALIASAM                                 1\n",
              " \"\"LAL QILLA\"\", \"\"SHAHJAHAN\"\", \"\"QIL     1\n",
              " PRATEEK                                 1\n",
              " ОТСУТ.                                  1\n",
              " KAINAAT                                 1\n",
              " SHAH NANJI NAGSI OVERSEAS PVT.LTD.      1\n",
              " INDIA SALAAM                            1\n",
              " КРУП ЯНИЙ ДВІР                          1\n",
              " LAL QILLA                               1\n",
              " OASIS                                   1\n",
              " MAHARANI                                1\n",
              " SM                                      1\n",
              " SUPER                                   1\n",
              " RAYDUGA                                 1\n",
              " Name: BRAND NAME, dtype: int64,\n",
              " 26822)"
            ]
          },
          "metadata": {},
          "execution_count": 63
        }
      ]
    },
    {
      "cell_type": "code",
      "source": [
        "df[\"PORT OF DEPARTURE\"].value_counts(),df[\"PORT OF DEPARTURE\"].isnull().sum()"
      ],
      "metadata": {
        "colab": {
          "base_uri": "https://localhost:8080/"
        },
        "id": "nYcGpJ6oweKN",
        "outputId": "cdb18b74-fc94-40aa-bbaa-73a3ae175f9e"
      },
      "execution_count": 64,
      "outputs": [
        {
          "output_type": "execute_result",
          "data": {
            "text/plain": [
              "(MUNDRA SEA (INMUN1)                    6044\n",
              " COCHIN SEA (INCOK1)                    2772\n",
              " NHAVA SHEVA SEA (INNSA1)               1530\n",
              " TUTICORIN SEA (INTUT1)                 1204\n",
              " SONEPAT ICD (INBDM6)                   1163\n",
              "                                        ... \n",
              " MEPZ Special Economic Zone (INMAA6)       1\n",
              " CFS NASIK ICD (INNSK6)                    1\n",
              " KOTTAYAM ICD (INKYM6)                     1\n",
              " KATTUPALLI, INDIA                         1\n",
              " KRISHNAPATNAM                             1\n",
              " Name: PORT OF DEPARTURE, Length: 110, dtype: int64,\n",
              " 794)"
            ]
          },
          "metadata": {},
          "execution_count": 64
        }
      ]
    },
    {
      "cell_type": "code",
      "source": [
        "df[\"PORT OF ARRIVAL\"].value_counts(),df[\"PORT OF ARRIVAL\"].isnull().sum()"
      ],
      "metadata": {
        "colab": {
          "base_uri": "https://localhost:8080/"
        },
        "id": "j2ml0N-uwmbZ",
        "outputId": "021220d1-3172-4af1-e982-207f837b5431"
      },
      "execution_count": 65,
      "outputs": [
        {
          "output_type": "execute_result",
          "data": {
            "text/plain": [
              "(Jebel Ali             2388\n",
              " Phuntsholing          1103\n",
              " Bandar Abbas          1070\n",
              " Colombo                969\n",
              " .NEPAL                 968\n",
              "                       ... \n",
              " FOC                      1\n",
              " Le Port                  1\n",
              " Copenhagon Denmark       1\n",
              " Ploce                    1\n",
              " St-Laurent               1\n",
              " Name: PORT OF ARRIVAL, Length: 447, dtype: int64,\n",
              " 373)"
            ]
          },
          "metadata": {},
          "execution_count": 65
        }
      ]
    },
    {
      "cell_type": "code",
      "source": [
        "df.dropna(subset =[\"PORT OF DEPARTURE\"],inplace = True)\n",
        "df.dropna(subset =[\"PORT OF ARRIVAL\"],inplace = True)"
      ],
      "metadata": {
        "id": "bKHjnFAhws3F"
      },
      "execution_count": 66,
      "outputs": []
    },
    {
      "cell_type": "code",
      "source": [
        "df.drop([\"PORT OF DEPARTURE.1\",\"TOTAL TEUS\",\"VOLUME\",'NOTIFY PARTY','NOTIFY PARTY','CONTAINER COUNT','Final Qty','SHIPPER COUNTRY'],axis = 1 , inplace = True)"
      ],
      "metadata": {
        "id": "_0MiKmL1ww_k"
      },
      "execution_count": 67,
      "outputs": []
    },
    {
      "cell_type": "code",
      "source": [
        "df.info()"
      ],
      "metadata": {
        "colab": {
          "base_uri": "https://localhost:8080/"
        },
        "id": "KhcRQmwyw3w5",
        "outputId": "84b2a2e6-4fb6-4802-e9c9-bcba626cc7fb"
      },
      "execution_count": 68,
      "outputs": [
        {
          "output_type": "stream",
          "name": "stdout",
          "text": [
            "<class 'pandas.core.frame.DataFrame'>\n",
            "Int64Index: 26197 entries, 0 to 8698\n",
            "Data columns (total 31 columns):\n",
            " #   Column                 Non-Null Count  Dtype         \n",
            "---  ------                 --------------  -----         \n",
            " 0   NO                     26197 non-null  int64         \n",
            " 1   ARRIVAL DATE           26197 non-null  datetime64[ns]\n",
            " 2   HS CODE                26197 non-null  int64         \n",
            " 3   HS CODE DESCRIPTION    26197 non-null  object        \n",
            " 4   IMPORTER NAME          26197 non-null  object        \n",
            " 5   IMPORTER COUNTRY       26197 non-null  object        \n",
            " 6   CITY STATE             26197 non-null  object        \n",
            " 7   EXPORTER NAME          26197 non-null  object        \n",
            " 8   COUNTRY OF ORIGIN      26197 non-null  object        \n",
            " 9   IMPORT VALUE FOB       26197 non-null  float64       \n",
            " 10  IMPORT VALUE CIF       26197 non-null  float64       \n",
            " 11  CURRENCY               26197 non-null  object        \n",
            " 12  NET WEIGHT             26197 non-null  float64       \n",
            " 13  NET WEIGHT UNIT        26197 non-null  object        \n",
            " 14  GROSS WEIGHT           26197 non-null  float64       \n",
            " 15  GROSS WEIGHT UNIT      26197 non-null  object        \n",
            " 16  QUANTITY               26197 non-null  float64       \n",
            " 17  QUANTITY UNIT          26197 non-null  object        \n",
            " 18  PRODUCT DETAILS        26197 non-null  object        \n",
            " 19  NUMBER OF PACKAGES     26197 non-null  float64       \n",
            " 20  PACKAGES UNIT          26197 non-null  object        \n",
            " 21  PLACE OF DELIVERY      2 non-null      object        \n",
            " 22  BRAND NAME             0 non-null      object        \n",
            " 23  MANUFACTORING COMPANY  0 non-null      object        \n",
            " 24  PORT OF ARRIVAL        26197 non-null  object        \n",
            " 25  PORT OF DEPARTURE      26197 non-null  object        \n",
            " 26  NOTIFY ADDRESS         2 non-null      object        \n",
            " 27  Year                   26197 non-null  int64         \n",
            " 28  Month                  26197 non-null  int64         \n",
            " 29  Day                    26197 non-null  int64         \n",
            " 30  TOTAL IMPORT           26197 non-null  float64       \n",
            "dtypes: datetime64[ns](1), float64(7), int64(5), object(18)\n",
            "memory usage: 6.4+ MB\n"
          ]
        }
      ]
    },
    {
      "cell_type": "code",
      "source": [
        "df.drop(['PLACE OF DELIVERY','MANUFACTORING COMPANY','NOTIFY ADDRESS' ,'BRAND NAME'],axis = 1 ,inplace = True)"
      ],
      "metadata": {
        "id": "sK3YLJNcxNa1"
      },
      "execution_count": 69,
      "outputs": []
    },
    {
      "cell_type": "code",
      "source": [
        "df.info()"
      ],
      "metadata": {
        "colab": {
          "base_uri": "https://localhost:8080/"
        },
        "id": "z4bZhce1xR49",
        "outputId": "9c7d7d27-73c7-42c3-aad8-2ff74af98a2b"
      },
      "execution_count": 70,
      "outputs": [
        {
          "output_type": "stream",
          "name": "stdout",
          "text": [
            "<class 'pandas.core.frame.DataFrame'>\n",
            "Int64Index: 26197 entries, 0 to 8698\n",
            "Data columns (total 27 columns):\n",
            " #   Column               Non-Null Count  Dtype         \n",
            "---  ------               --------------  -----         \n",
            " 0   NO                   26197 non-null  int64         \n",
            " 1   ARRIVAL DATE         26197 non-null  datetime64[ns]\n",
            " 2   HS CODE              26197 non-null  int64         \n",
            " 3   HS CODE DESCRIPTION  26197 non-null  object        \n",
            " 4   IMPORTER NAME        26197 non-null  object        \n",
            " 5   IMPORTER COUNTRY     26197 non-null  object        \n",
            " 6   CITY STATE           26197 non-null  object        \n",
            " 7   EXPORTER NAME        26197 non-null  object        \n",
            " 8   COUNTRY OF ORIGIN    26197 non-null  object        \n",
            " 9   IMPORT VALUE FOB     26197 non-null  float64       \n",
            " 10  IMPORT VALUE CIF     26197 non-null  float64       \n",
            " 11  CURRENCY             26197 non-null  object        \n",
            " 12  NET WEIGHT           26197 non-null  float64       \n",
            " 13  NET WEIGHT UNIT      26197 non-null  object        \n",
            " 14  GROSS WEIGHT         26197 non-null  float64       \n",
            " 15  GROSS WEIGHT UNIT    26197 non-null  object        \n",
            " 16  QUANTITY             26197 non-null  float64       \n",
            " 17  QUANTITY UNIT        26197 non-null  object        \n",
            " 18  PRODUCT DETAILS      26197 non-null  object        \n",
            " 19  NUMBER OF PACKAGES   26197 non-null  float64       \n",
            " 20  PACKAGES UNIT        26197 non-null  object        \n",
            " 21  PORT OF ARRIVAL      26197 non-null  object        \n",
            " 22  PORT OF DEPARTURE    26197 non-null  object        \n",
            " 23  Year                 26197 non-null  int64         \n",
            " 24  Month                26197 non-null  int64         \n",
            " 25  Day                  26197 non-null  int64         \n",
            " 26  TOTAL IMPORT         26197 non-null  float64       \n",
            "dtypes: datetime64[ns](1), float64(7), int64(5), object(14)\n",
            "memory usage: 5.6+ MB\n"
          ]
        }
      ]
    },
    {
      "cell_type": "code",
      "source": [
        "df.head()"
      ],
      "metadata": {
        "colab": {
          "base_uri": "https://localhost:8080/",
          "height": 603
        },
        "id": "lmFSVwHsxV0p",
        "outputId": "0f8e03c3-0f26-41f0-ddf4-4e629761ee0b"
      },
      "execution_count": 71,
      "outputs": [
        {
          "output_type": "execute_result",
          "data": {
            "text/plain": [
              "   NO ARRIVAL DATE   HS CODE                        HS CODE DESCRIPTION  \\\n",
              "0   1   2019-01-30  10063020                               Basmati Rice   \n",
              "1   2   2019-01-30  10063020                               Basmati Rice   \n",
              "2   3   2019-01-30  10063010                            Rice, parboiled   \n",
              "3   4   2019-01-30  10063010                            Rice, parboiled   \n",
              "4   5   2019-01-30  10063090  Rice Excptg Parboiled (Excl Basmati Rice)   \n",
              "\n",
              "                          IMPORTER NAME      IMPORTER COUNTRY  \\\n",
              "0             NATRAJ FOOD STUFF FACTORY  United Arab Emirates   \n",
              "1             KV A GENERAL TRADING LLC.  United Arab Emirates   \n",
              "2  NIRAPARA MIDDLEEAST GENERALTRAD LLC.  United Arab Emirates   \n",
              "3                  MATSYA OVER SEASLTD.  United Arab Emirates   \n",
              "4      SARAVANA FOOD STUFF FACTORY LLC.  United Arab Emirates   \n",
              "\n",
              "             CITY STATE                     EXPORTER NAME COUNTRY OF ORIGIN  \\\n",
              "0  United Arab Emirates    GREEN VILLAGE AGROS PVT.LTD.,              India   \n",
              "1  United Arab Emirates        FAUJI EXIM PRIVATE LIMITED             India   \n",
              "2  United Arab Emirates  K K R AGRO MILLS PRIVATE LIMITED             India   \n",
              "3  United Arab Emirates                VISHNU ENTERPRISES             India   \n",
              "4  United Arab Emirates         LAKSHMI EXPORT AND IMPORT             India   \n",
              "\n",
              "   IMPORT VALUE FOB  ...  QUANTITY UNIT  \\\n",
              "0           58262.4  ...           TONS   \n",
              "1            7245.0  ...           TONS   \n",
              "2            9280.3  ...            KGS   \n",
              "3           11518.0  ...            KGS   \n",
              "4           73788.0  ...            KGS   \n",
              "\n",
              "                             PRODUCT DETAILS  NUMBER OF PACKAGES  \\\n",
              "0  INDIAN ORIGIN 1121 STEAM BASMATI RICE, P                  0.0   \n",
              "1  1121 RAW BASMATI RICE SORTEX, CROP 2016,                  0.0   \n",
              "2                      2 KG JEERAKASALA RICE                 0.0   \n",
              "3   NON BASMATHI RICE (THANJAVOOR KURUVA RIC                 0.0   \n",
              "4    PONNI SAMBA RICE (NON BASMATI RICE) 156                 0.0   \n",
              "\n",
              "  PACKAGES UNIT  PORT OF ARRIVAL       PORT OF DEPARTURE  Year Month Day  \\\n",
              "0     Undefined        Jebel Ali     MUNDRA SEA (INMUN1)  2019     1  30   \n",
              "1     Undefined        Jebel Ali     MUNDRA SEA (INMUN1)  2019     1  30   \n",
              "2     Undefined        Jebel Ali     COCHIN SEA (INCOK1)  2019     1  30   \n",
              "3     Undefined        Jebel Ali  TUTICORIN SEA (INTUT1)  2019     1  30   \n",
              "4     Undefined        Jebel Ali  TUTICORIN SEA (INTUT1)  2019     1  30   \n",
              "\n",
              "   TOTAL IMPORT  \n",
              "0  4.611467e+10  \n",
              "1  4.611462e+10  \n",
              "2  4.611462e+10  \n",
              "3  4.611462e+10  \n",
              "4  4.611468e+10  \n",
              "\n",
              "[5 rows x 27 columns]"
            ],
            "text/html": [
              "\n",
              "  <div id=\"df-fbe233a5-9522-4d7d-a5a1-e9f69c6410b4\" class=\"colab-df-container\">\n",
              "    <div>\n",
              "<style scoped>\n",
              "    .dataframe tbody tr th:only-of-type {\n",
              "        vertical-align: middle;\n",
              "    }\n",
              "\n",
              "    .dataframe tbody tr th {\n",
              "        vertical-align: top;\n",
              "    }\n",
              "\n",
              "    .dataframe thead th {\n",
              "        text-align: right;\n",
              "    }\n",
              "</style>\n",
              "<table border=\"1\" class=\"dataframe\">\n",
              "  <thead>\n",
              "    <tr style=\"text-align: right;\">\n",
              "      <th></th>\n",
              "      <th>NO</th>\n",
              "      <th>ARRIVAL DATE</th>\n",
              "      <th>HS CODE</th>\n",
              "      <th>HS CODE DESCRIPTION</th>\n",
              "      <th>IMPORTER NAME</th>\n",
              "      <th>IMPORTER COUNTRY</th>\n",
              "      <th>CITY STATE</th>\n",
              "      <th>EXPORTER NAME</th>\n",
              "      <th>COUNTRY OF ORIGIN</th>\n",
              "      <th>IMPORT VALUE FOB</th>\n",
              "      <th>...</th>\n",
              "      <th>QUANTITY UNIT</th>\n",
              "      <th>PRODUCT DETAILS</th>\n",
              "      <th>NUMBER OF PACKAGES</th>\n",
              "      <th>PACKAGES UNIT</th>\n",
              "      <th>PORT OF ARRIVAL</th>\n",
              "      <th>PORT OF DEPARTURE</th>\n",
              "      <th>Year</th>\n",
              "      <th>Month</th>\n",
              "      <th>Day</th>\n",
              "      <th>TOTAL IMPORT</th>\n",
              "    </tr>\n",
              "  </thead>\n",
              "  <tbody>\n",
              "    <tr>\n",
              "      <th>0</th>\n",
              "      <td>1</td>\n",
              "      <td>2019-01-30</td>\n",
              "      <td>10063020</td>\n",
              "      <td>Basmati Rice</td>\n",
              "      <td>NATRAJ FOOD STUFF FACTORY</td>\n",
              "      <td>United Arab Emirates</td>\n",
              "      <td>United Arab Emirates</td>\n",
              "      <td>GREEN VILLAGE AGROS PVT.LTD.,</td>\n",
              "      <td>India</td>\n",
              "      <td>58262.4</td>\n",
              "      <td>...</td>\n",
              "      <td>TONS</td>\n",
              "      <td>INDIAN ORIGIN 1121 STEAM BASMATI RICE, P</td>\n",
              "      <td>0.0</td>\n",
              "      <td>Undefined</td>\n",
              "      <td>Jebel Ali</td>\n",
              "      <td>MUNDRA SEA (INMUN1)</td>\n",
              "      <td>2019</td>\n",
              "      <td>1</td>\n",
              "      <td>30</td>\n",
              "      <td>4.611467e+10</td>\n",
              "    </tr>\n",
              "    <tr>\n",
              "      <th>1</th>\n",
              "      <td>2</td>\n",
              "      <td>2019-01-30</td>\n",
              "      <td>10063020</td>\n",
              "      <td>Basmati Rice</td>\n",
              "      <td>KV A GENERAL TRADING LLC.</td>\n",
              "      <td>United Arab Emirates</td>\n",
              "      <td>United Arab Emirates</td>\n",
              "      <td>FAUJI EXIM PRIVATE LIMITED</td>\n",
              "      <td>India</td>\n",
              "      <td>7245.0</td>\n",
              "      <td>...</td>\n",
              "      <td>TONS</td>\n",
              "      <td>1121 RAW BASMATI RICE SORTEX, CROP 2016,</td>\n",
              "      <td>0.0</td>\n",
              "      <td>Undefined</td>\n",
              "      <td>Jebel Ali</td>\n",
              "      <td>MUNDRA SEA (INMUN1)</td>\n",
              "      <td>2019</td>\n",
              "      <td>1</td>\n",
              "      <td>30</td>\n",
              "      <td>4.611462e+10</td>\n",
              "    </tr>\n",
              "    <tr>\n",
              "      <th>2</th>\n",
              "      <td>3</td>\n",
              "      <td>2019-01-30</td>\n",
              "      <td>10063010</td>\n",
              "      <td>Rice, parboiled</td>\n",
              "      <td>NIRAPARA MIDDLEEAST GENERALTRAD LLC.</td>\n",
              "      <td>United Arab Emirates</td>\n",
              "      <td>United Arab Emirates</td>\n",
              "      <td>K K R AGRO MILLS PRIVATE LIMITED</td>\n",
              "      <td>India</td>\n",
              "      <td>9280.3</td>\n",
              "      <td>...</td>\n",
              "      <td>KGS</td>\n",
              "      <td>2 KG JEERAKASALA RICE</td>\n",
              "      <td>0.0</td>\n",
              "      <td>Undefined</td>\n",
              "      <td>Jebel Ali</td>\n",
              "      <td>COCHIN SEA (INCOK1)</td>\n",
              "      <td>2019</td>\n",
              "      <td>1</td>\n",
              "      <td>30</td>\n",
              "      <td>4.611462e+10</td>\n",
              "    </tr>\n",
              "    <tr>\n",
              "      <th>3</th>\n",
              "      <td>4</td>\n",
              "      <td>2019-01-30</td>\n",
              "      <td>10063010</td>\n",
              "      <td>Rice, parboiled</td>\n",
              "      <td>MATSYA OVER SEASLTD.</td>\n",
              "      <td>United Arab Emirates</td>\n",
              "      <td>United Arab Emirates</td>\n",
              "      <td>VISHNU ENTERPRISES</td>\n",
              "      <td>India</td>\n",
              "      <td>11518.0</td>\n",
              "      <td>...</td>\n",
              "      <td>KGS</td>\n",
              "      <td>NON BASMATHI RICE (THANJAVOOR KURUVA RIC</td>\n",
              "      <td>0.0</td>\n",
              "      <td>Undefined</td>\n",
              "      <td>Jebel Ali</td>\n",
              "      <td>TUTICORIN SEA (INTUT1)</td>\n",
              "      <td>2019</td>\n",
              "      <td>1</td>\n",
              "      <td>30</td>\n",
              "      <td>4.611462e+10</td>\n",
              "    </tr>\n",
              "    <tr>\n",
              "      <th>4</th>\n",
              "      <td>5</td>\n",
              "      <td>2019-01-30</td>\n",
              "      <td>10063090</td>\n",
              "      <td>Rice Excptg Parboiled (Excl Basmati Rice)</td>\n",
              "      <td>SARAVANA FOOD STUFF FACTORY LLC.</td>\n",
              "      <td>United Arab Emirates</td>\n",
              "      <td>United Arab Emirates</td>\n",
              "      <td>LAKSHMI EXPORT AND IMPORT</td>\n",
              "      <td>India</td>\n",
              "      <td>73788.0</td>\n",
              "      <td>...</td>\n",
              "      <td>KGS</td>\n",
              "      <td>PONNI SAMBA RICE (NON BASMATI RICE) 156</td>\n",
              "      <td>0.0</td>\n",
              "      <td>Undefined</td>\n",
              "      <td>Jebel Ali</td>\n",
              "      <td>TUTICORIN SEA (INTUT1)</td>\n",
              "      <td>2019</td>\n",
              "      <td>1</td>\n",
              "      <td>30</td>\n",
              "      <td>4.611468e+10</td>\n",
              "    </tr>\n",
              "  </tbody>\n",
              "</table>\n",
              "<p>5 rows × 27 columns</p>\n",
              "</div>\n",
              "    <div class=\"colab-df-buttons\">\n",
              "\n",
              "  <div class=\"colab-df-container\">\n",
              "    <button class=\"colab-df-convert\" onclick=\"convertToInteractive('df-fbe233a5-9522-4d7d-a5a1-e9f69c6410b4')\"\n",
              "            title=\"Convert this dataframe to an interactive table.\"\n",
              "            style=\"display:none;\">\n",
              "\n",
              "  <svg xmlns=\"http://www.w3.org/2000/svg\" height=\"24px\" viewBox=\"0 -960 960 960\">\n",
              "    <path d=\"M120-120v-720h720v720H120Zm60-500h600v-160H180v160Zm220 220h160v-160H400v160Zm0 220h160v-160H400v160ZM180-400h160v-160H180v160Zm440 0h160v-160H620v160ZM180-180h160v-160H180v160Zm440 0h160v-160H620v160Z\"/>\n",
              "  </svg>\n",
              "    </button>\n",
              "\n",
              "  <style>\n",
              "    .colab-df-container {\n",
              "      display:flex;\n",
              "      gap: 12px;\n",
              "    }\n",
              "\n",
              "    .colab-df-convert {\n",
              "      background-color: #E8F0FE;\n",
              "      border: none;\n",
              "      border-radius: 50%;\n",
              "      cursor: pointer;\n",
              "      display: none;\n",
              "      fill: #1967D2;\n",
              "      height: 32px;\n",
              "      padding: 0 0 0 0;\n",
              "      width: 32px;\n",
              "    }\n",
              "\n",
              "    .colab-df-convert:hover {\n",
              "      background-color: #E2EBFA;\n",
              "      box-shadow: 0px 1px 2px rgba(60, 64, 67, 0.3), 0px 1px 3px 1px rgba(60, 64, 67, 0.15);\n",
              "      fill: #174EA6;\n",
              "    }\n",
              "\n",
              "    .colab-df-buttons div {\n",
              "      margin-bottom: 4px;\n",
              "    }\n",
              "\n",
              "    [theme=dark] .colab-df-convert {\n",
              "      background-color: #3B4455;\n",
              "      fill: #D2E3FC;\n",
              "    }\n",
              "\n",
              "    [theme=dark] .colab-df-convert:hover {\n",
              "      background-color: #434B5C;\n",
              "      box-shadow: 0px 1px 3px 1px rgba(0, 0, 0, 0.15);\n",
              "      filter: drop-shadow(0px 1px 2px rgba(0, 0, 0, 0.3));\n",
              "      fill: #FFFFFF;\n",
              "    }\n",
              "  </style>\n",
              "\n",
              "    <script>\n",
              "      const buttonEl =\n",
              "        document.querySelector('#df-fbe233a5-9522-4d7d-a5a1-e9f69c6410b4 button.colab-df-convert');\n",
              "      buttonEl.style.display =\n",
              "        google.colab.kernel.accessAllowed ? 'block' : 'none';\n",
              "\n",
              "      async function convertToInteractive(key) {\n",
              "        const element = document.querySelector('#df-fbe233a5-9522-4d7d-a5a1-e9f69c6410b4');\n",
              "        const dataTable =\n",
              "          await google.colab.kernel.invokeFunction('convertToInteractive',\n",
              "                                                    [key], {});\n",
              "        if (!dataTable) return;\n",
              "\n",
              "        const docLinkHtml = 'Like what you see? Visit the ' +\n",
              "          '<a target=\"_blank\" href=https://colab.research.google.com/notebooks/data_table.ipynb>data table notebook</a>'\n",
              "          + ' to learn more about interactive tables.';\n",
              "        element.innerHTML = '';\n",
              "        dataTable['output_type'] = 'display_data';\n",
              "        await google.colab.output.renderOutput(dataTable, element);\n",
              "        const docLink = document.createElement('div');\n",
              "        docLink.innerHTML = docLinkHtml;\n",
              "        element.appendChild(docLink);\n",
              "      }\n",
              "    </script>\n",
              "  </div>\n",
              "\n",
              "\n",
              "<div id=\"df-553dc131-336a-4c4c-8eb1-6cd0e9a19a4f\">\n",
              "  <button class=\"colab-df-quickchart\" onclick=\"quickchart('df-553dc131-336a-4c4c-8eb1-6cd0e9a19a4f')\"\n",
              "            title=\"Suggest charts\"\n",
              "            style=\"display:none;\">\n",
              "\n",
              "<svg xmlns=\"http://www.w3.org/2000/svg\" height=\"24px\"viewBox=\"0 0 24 24\"\n",
              "     width=\"24px\">\n",
              "    <g>\n",
              "        <path d=\"M19 3H5c-1.1 0-2 .9-2 2v14c0 1.1.9 2 2 2h14c1.1 0 2-.9 2-2V5c0-1.1-.9-2-2-2zM9 17H7v-7h2v7zm4 0h-2V7h2v10zm4 0h-2v-4h2v4z\"/>\n",
              "    </g>\n",
              "</svg>\n",
              "  </button>\n",
              "\n",
              "<style>\n",
              "  .colab-df-quickchart {\n",
              "      --bg-color: #E8F0FE;\n",
              "      --fill-color: #1967D2;\n",
              "      --hover-bg-color: #E2EBFA;\n",
              "      --hover-fill-color: #174EA6;\n",
              "      --disabled-fill-color: #AAA;\n",
              "      --disabled-bg-color: #DDD;\n",
              "  }\n",
              "\n",
              "  [theme=dark] .colab-df-quickchart {\n",
              "      --bg-color: #3B4455;\n",
              "      --fill-color: #D2E3FC;\n",
              "      --hover-bg-color: #434B5C;\n",
              "      --hover-fill-color: #FFFFFF;\n",
              "      --disabled-bg-color: #3B4455;\n",
              "      --disabled-fill-color: #666;\n",
              "  }\n",
              "\n",
              "  .colab-df-quickchart {\n",
              "    background-color: var(--bg-color);\n",
              "    border: none;\n",
              "    border-radius: 50%;\n",
              "    cursor: pointer;\n",
              "    display: none;\n",
              "    fill: var(--fill-color);\n",
              "    height: 32px;\n",
              "    padding: 0;\n",
              "    width: 32px;\n",
              "  }\n",
              "\n",
              "  .colab-df-quickchart:hover {\n",
              "    background-color: var(--hover-bg-color);\n",
              "    box-shadow: 0 1px 2px rgba(60, 64, 67, 0.3), 0 1px 3px 1px rgba(60, 64, 67, 0.15);\n",
              "    fill: var(--button-hover-fill-color);\n",
              "  }\n",
              "\n",
              "  .colab-df-quickchart-complete:disabled,\n",
              "  .colab-df-quickchart-complete:disabled:hover {\n",
              "    background-color: var(--disabled-bg-color);\n",
              "    fill: var(--disabled-fill-color);\n",
              "    box-shadow: none;\n",
              "  }\n",
              "\n",
              "  .colab-df-spinner {\n",
              "    border: 2px solid var(--fill-color);\n",
              "    border-color: transparent;\n",
              "    border-bottom-color: var(--fill-color);\n",
              "    animation:\n",
              "      spin 1s steps(1) infinite;\n",
              "  }\n",
              "\n",
              "  @keyframes spin {\n",
              "    0% {\n",
              "      border-color: transparent;\n",
              "      border-bottom-color: var(--fill-color);\n",
              "      border-left-color: var(--fill-color);\n",
              "    }\n",
              "    20% {\n",
              "      border-color: transparent;\n",
              "      border-left-color: var(--fill-color);\n",
              "      border-top-color: var(--fill-color);\n",
              "    }\n",
              "    30% {\n",
              "      border-color: transparent;\n",
              "      border-left-color: var(--fill-color);\n",
              "      border-top-color: var(--fill-color);\n",
              "      border-right-color: var(--fill-color);\n",
              "    }\n",
              "    40% {\n",
              "      border-color: transparent;\n",
              "      border-right-color: var(--fill-color);\n",
              "      border-top-color: var(--fill-color);\n",
              "    }\n",
              "    60% {\n",
              "      border-color: transparent;\n",
              "      border-right-color: var(--fill-color);\n",
              "    }\n",
              "    80% {\n",
              "      border-color: transparent;\n",
              "      border-right-color: var(--fill-color);\n",
              "      border-bottom-color: var(--fill-color);\n",
              "    }\n",
              "    90% {\n",
              "      border-color: transparent;\n",
              "      border-bottom-color: var(--fill-color);\n",
              "    }\n",
              "  }\n",
              "</style>\n",
              "\n",
              "  <script>\n",
              "    async function quickchart(key) {\n",
              "      const quickchartButtonEl =\n",
              "        document.querySelector('#' + key + ' button');\n",
              "      quickchartButtonEl.disabled = true;  // To prevent multiple clicks.\n",
              "      quickchartButtonEl.classList.add('colab-df-spinner');\n",
              "      try {\n",
              "        const charts = await google.colab.kernel.invokeFunction(\n",
              "            'suggestCharts', [key], {});\n",
              "      } catch (error) {\n",
              "        console.error('Error during call to suggestCharts:', error);\n",
              "      }\n",
              "      quickchartButtonEl.classList.remove('colab-df-spinner');\n",
              "      quickchartButtonEl.classList.add('colab-df-quickchart-complete');\n",
              "    }\n",
              "    (() => {\n",
              "      let quickchartButtonEl =\n",
              "        document.querySelector('#df-553dc131-336a-4c4c-8eb1-6cd0e9a19a4f button');\n",
              "      quickchartButtonEl.style.display =\n",
              "        google.colab.kernel.accessAllowed ? 'block' : 'none';\n",
              "    })();\n",
              "  </script>\n",
              "</div>\n",
              "    </div>\n",
              "  </div>\n"
            ]
          },
          "metadata": {},
          "execution_count": 71
        }
      ]
    },
    {
      "cell_type": "code",
      "source": [
        "df.drop(['NO'],axis = 1,inplace = True)"
      ],
      "metadata": {
        "id": "Ie_yFWMPxaEZ"
      },
      "execution_count": 72,
      "outputs": []
    },
    {
      "cell_type": "code",
      "source": [
        "df.to_csv(\"Cleaned_Data\")"
      ],
      "metadata": {
        "id": "_IdoENnwxc3B"
      },
      "execution_count": 73,
      "outputs": []
    }
  ]
}